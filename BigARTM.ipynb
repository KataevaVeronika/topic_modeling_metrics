{
  "nbformat": 4,
  "nbformat_minor": 0,
  "metadata": {
    "colab": {
      "provenance": [],
      "collapsed_sections": []
    },
    "kernelspec": {
      "name": "python3",
      "display_name": "Python 3"
    },
    "language_info": {
      "name": "python"
    }
  },
  "cells": [
    {
      "cell_type": "code",
      "metadata": {
        "id": "WjPwuuoA0JRR"
      },
      "source": [
        "!pip install bigartm10\n",
        "!pip install deeppavlov\n",
        "!python -m deeppavlov install morpho_ru_syntagrus_pymorphy \n",
        "!python -m deeppavlov install squad_bert\n",
        "!pip install mysmallutils\n",
        "!pip install stop_words"
      ],
      "execution_count": null,
      "outputs": []
    },
    {
      "cell_type": "code",
      "source": [
        "!pip uninstall pandas"
      ],
      "metadata": {
        "id": "UtDsukXp4dHO"
      },
      "execution_count": null,
      "outputs": []
    },
    {
      "cell_type": "code",
      "metadata": {
        "id": "tIeZZxbCuxKi"
      },
      "source": [
        "!pip install pandas"
      ],
      "execution_count": null,
      "outputs": []
    },
    {
      "cell_type": "code",
      "metadata": {
        "id": "tJtEFWlFxTci",
        "colab": {
          "base_uri": "https://localhost:8080/"
        },
        "outputId": "67c9ca73-f17d-44bf-dc1d-5927d5a27ca2"
      },
      "source": [
        "import nltk\n",
        "nltk.download('punkt')"
      ],
      "execution_count": null,
      "outputs": [
        {
          "output_type": "stream",
          "name": "stderr",
          "text": [
            "[nltk_data] Downloading package punkt to /root/nltk_data...\n",
            "[nltk_data]   Package punkt is already up-to-date!\n"
          ]
        },
        {
          "output_type": "execute_result",
          "data": {
            "text/plain": [
              "True"
            ]
          },
          "metadata": {},
          "execution_count": 1
        }
      ]
    },
    {
      "cell_type": "code",
      "metadata": {
        "id": "c2DcV_ktsTC3"
      },
      "source": [
        "import re\n",
        "import artm\n",
        "import nltk\n",
        "import json\n",
        "import requests\n",
        "import numpy as np\n",
        "import pandas as pd\n",
        "import plotly.graph_objects as go\n",
        "\n",
        "from os.path import join\n",
        "from nltk.util import ngrams\n",
        "from itertools import accumulate\n",
        "from nltk.corpus import stopwords\n",
        "from stop_words import get_stop_words\n",
        "from gensim.corpora import Dictionary\n",
        "from string import digits, punctuation\n",
        "from nltk.tokenize import sent_tokenize\n",
        "from nltk import FreqDist, word_tokenize\n",
        "from plotly.subplots import make_subplots\n",
        "from deeppavlov import build_model, configs\n",
        "from mysutils.text import remove_urls as delete_urls\n",
        "from gensim.models.coherencemodel import CoherenceModel"
      ],
      "execution_count": null,
      "outputs": []
    },
    {
      "cell_type": "code",
      "metadata": {
        "id": "Rgkmb3ZrpI8v"
      },
      "source": [
        "import warnings\n",
        "warnings.filterwarnings('ignore')"
      ],
      "execution_count": null,
      "outputs": []
    },
    {
      "cell_type": "markdown",
      "metadata": {
        "id": "27-7Pbb1uA8E"
      },
      "source": [
        "Dataset creation"
      ]
    },
    {
      "cell_type": "code",
      "metadata": {
        "id": "-5aXBnrhqX66"
      },
      "source": [
        "access_token = 'f52e30cbf52e30cbf52e30cbc4f571d0b5ff52ef52e30cbaa908ed0c563102e7ecf2e65'"
      ],
      "execution_count": null,
      "outputs": []
    },
    {
      "cell_type": "code",
      "metadata": {
        "id": "1nKb2wfGqaj8"
      },
      "source": [
        "domains = ['art_and_stories', 'space_live', 'nplusone', 'mental_engineering', 'formula_1_fan', 'eco.society', 'gorkiy_media']\n",
        "topics = ['art', 'space', 'science', 'mental_health', 'motorsport', 'ecology', 'literature']"
      ],
      "execution_count": null,
      "outputs": []
    },
    {
      "cell_type": "code",
      "metadata": {
        "id": "jh43T0Mxqdy1"
      },
      "source": [
        "posts_url = 'https://api.vk.com/method/wall.get?domain={domain}' \\\n",
        "                                              '&count=100' \\\n",
        "                                              '&offset={offset}' \\\n",
        "                                              '&access_token={access_token}' \\\n",
        "                                              '&v=5.130'"
      ],
      "execution_count": null,
      "outputs": []
    },
    {
      "cell_type": "code",
      "metadata": {
        "id": "NJ4vl36Iqgpw"
      },
      "source": [
        "posts = {'domain': [],\n",
        "         'text': [],\n",
        "         'marked_as_ads': []}"
      ],
      "execution_count": null,
      "outputs": []
    },
    {
      "cell_type": "code",
      "source": [
        "path = '/content/drive/MyDrive/Colab Notebooks/Diploma'"
      ],
      "metadata": {
        "id": "w2M1BTLZzi7w"
      },
      "execution_count": null,
      "outputs": []
    },
    {
      "cell_type": "code",
      "metadata": {
        "id": "5nkoHJkTqtOj"
      },
      "source": [
        "for domain, topic in zip(domains, topics):\n",
        "    for offset in range(0, 10000, 100):\n",
        "        print(offset)\n",
        "        posts_url_formatted = posts_url.format(domain=domain,\n",
        "                                            offset=offset,\n",
        "                                            access_token=access_token)\n",
        "        wall = requests.get(posts_url_formatted)\n",
        "        for post in wall.json()['response']['items']:\n",
        "            if len(post['text']) > 500:\n",
        "                posts['domain'].append(domain)\n",
        "                posts['text'].append(post['text'])\n",
        "                posts['marked_as_ads'].append(post['marked_as_ads'])\n",
        "\n",
        "    posts = pd.DataFrame(posts)\n",
        "    posts = posts[posts['marked_as_ads'] == 0]\n",
        "    posts.drop('marked_as_ads', axis=1, inplace=True)\n",
        "    posts.reset_index(inplace=True, drop=True)\n",
        "    posts.to_csv(join(path, topic + '.csv'), index=False)  \n",
        "    posts = pd.read_csv(join(path, topic + '.csv'))"
      ],
      "execution_count": null,
      "outputs": []
    },
    {
      "cell_type": "code",
      "metadata": {
        "id": "ibCTlZjOmu4i"
      },
      "source": [
        "art = pd.read_csv(join(path, 'art.csv'))\n",
        "space = pd.read_csv(join(path, 'space.csv'))\n",
        "science = pd.read_csv(join(path, 'science.csv'))\n",
        "mental_health = pd.read_csv(join(path, 'mental_health.csv'))\n",
        "motorsport = pd.read_csv(join(path, 'motorsport.csv'))\n",
        "ecology = pd.read_csv(join(path, 'ecology.csv'))\n",
        "literature = pd.read_csv(join(path, 'literature.csv'))"
      ],
      "execution_count": null,
      "outputs": []
    },
    {
      "cell_type": "code",
      "source": [
        "space"
      ],
      "metadata": {
        "colab": {
          "base_uri": "https://localhost:8080/",
          "height": 423
        },
        "id": "FO6O2KnpWcFb",
        "outputId": "25aed7d6-8305-4aab-ee61-80bbef8bce30"
      },
      "execution_count": null,
      "outputs": [
        {
          "output_type": "execute_result",
          "data": {
            "text/html": [
              "\n",
              "  <div id=\"df-58df3dc0-1d8e-4bd8-a988-0b95c2326d2a\">\n",
              "    <div class=\"colab-df-container\">\n",
              "      <div>\n",
              "<style scoped>\n",
              "    .dataframe tbody tr th:only-of-type {\n",
              "        vertical-align: middle;\n",
              "    }\n",
              "\n",
              "    .dataframe tbody tr th {\n",
              "        vertical-align: top;\n",
              "    }\n",
              "\n",
              "    .dataframe thead th {\n",
              "        text-align: right;\n",
              "    }\n",
              "</style>\n",
              "<table border=\"1\" class=\"dataframe\">\n",
              "  <thead>\n",
              "    <tr style=\"text-align: right;\">\n",
              "      <th></th>\n",
              "      <th>domain</th>\n",
              "      <th>text</th>\n",
              "    </tr>\n",
              "  </thead>\n",
              "  <tbody>\n",
              "    <tr>\n",
              "      <th>0</th>\n",
              "      <td>space_live</td>\n",
              "      <td>Первый человек, вышедший в открытый космос – А...</td>\n",
              "    </tr>\n",
              "    <tr>\n",
              "      <th>1</th>\n",
              "      <td>space_live</td>\n",
              "      <td>Лунный заговор в мировом кинематографе: расска...</td>\n",
              "    </tr>\n",
              "    <tr>\n",
              "      <th>2</th>\n",
              "      <td>space_live</td>\n",
              "      <td>В последние годы ведётся много разговоров о по...</td>\n",
              "    </tr>\n",
              "    <tr>\n",
              "      <th>3</th>\n",
              "      <td>space_live</td>\n",
              "      <td>Скоро на обратную сторону Луны упадёт часть Fa...</td>\n",
              "    </tr>\n",
              "    <tr>\n",
              "      <th>4</th>\n",
              "      <td>space_live</td>\n",
              "      <td>«Луне-9» — 56 лет!\\n\\n3 февраля 1966 года сове...</td>\n",
              "    </tr>\n",
              "    <tr>\n",
              "      <th>...</th>\n",
              "      <td>...</td>\n",
              "      <td>...</td>\n",
              "    </tr>\n",
              "    <tr>\n",
              "      <th>4968</th>\n",
              "      <td>space_live</td>\n",
              "      <td>Комета L4 PANSTARRS растет и набирает яркость....</td>\n",
              "    </tr>\n",
              "    <tr>\n",
              "      <th>4969</th>\n",
              "      <td>space_live</td>\n",
              "      <td>Хотите предложить название для экзопланеты? Вс...</td>\n",
              "    </tr>\n",
              "    <tr>\n",
              "      <th>4970</th>\n",
              "      <td>space_live</td>\n",
              "      <td>У Земли нашли третий радиационный пояс!\\n\\nРад...</td>\n",
              "    </tr>\n",
              "    <tr>\n",
              "      <th>4971</th>\n",
              "      <td>space_live</td>\n",
              "      <td>Вращение чёрных дыр\\n\\nАмериканский орбитальны...</td>\n",
              "    </tr>\n",
              "    <tr>\n",
              "      <th>4972</th>\n",
              "      <td>space_live</td>\n",
              "      <td>Новый снимок от VLT\\n\\nНаблюдая за звёздной си...</td>\n",
              "    </tr>\n",
              "  </tbody>\n",
              "</table>\n",
              "<p>4973 rows × 2 columns</p>\n",
              "</div>\n",
              "      <button class=\"colab-df-convert\" onclick=\"convertToInteractive('df-58df3dc0-1d8e-4bd8-a988-0b95c2326d2a')\"\n",
              "              title=\"Convert this dataframe to an interactive table.\"\n",
              "              style=\"display:none;\">\n",
              "        \n",
              "  <svg xmlns=\"http://www.w3.org/2000/svg\" height=\"24px\"viewBox=\"0 0 24 24\"\n",
              "       width=\"24px\">\n",
              "    <path d=\"M0 0h24v24H0V0z\" fill=\"none\"/>\n",
              "    <path d=\"M18.56 5.44l.94 2.06.94-2.06 2.06-.94-2.06-.94-.94-2.06-.94 2.06-2.06.94zm-11 1L8.5 8.5l.94-2.06 2.06-.94-2.06-.94L8.5 2.5l-.94 2.06-2.06.94zm10 10l.94 2.06.94-2.06 2.06-.94-2.06-.94-.94-2.06-.94 2.06-2.06.94z\"/><path d=\"M17.41 7.96l-1.37-1.37c-.4-.4-.92-.59-1.43-.59-.52 0-1.04.2-1.43.59L10.3 9.45l-7.72 7.72c-.78.78-.78 2.05 0 2.83L4 21.41c.39.39.9.59 1.41.59.51 0 1.02-.2 1.41-.59l7.78-7.78 2.81-2.81c.8-.78.8-2.07 0-2.86zM5.41 20L4 18.59l7.72-7.72 1.47 1.35L5.41 20z\"/>\n",
              "  </svg>\n",
              "      </button>\n",
              "      \n",
              "  <style>\n",
              "    .colab-df-container {\n",
              "      display:flex;\n",
              "      flex-wrap:wrap;\n",
              "      gap: 12px;\n",
              "    }\n",
              "\n",
              "    .colab-df-convert {\n",
              "      background-color: #E8F0FE;\n",
              "      border: none;\n",
              "      border-radius: 50%;\n",
              "      cursor: pointer;\n",
              "      display: none;\n",
              "      fill: #1967D2;\n",
              "      height: 32px;\n",
              "      padding: 0 0 0 0;\n",
              "      width: 32px;\n",
              "    }\n",
              "\n",
              "    .colab-df-convert:hover {\n",
              "      background-color: #E2EBFA;\n",
              "      box-shadow: 0px 1px 2px rgba(60, 64, 67, 0.3), 0px 1px 3px 1px rgba(60, 64, 67, 0.15);\n",
              "      fill: #174EA6;\n",
              "    }\n",
              "\n",
              "    [theme=dark] .colab-df-convert {\n",
              "      background-color: #3B4455;\n",
              "      fill: #D2E3FC;\n",
              "    }\n",
              "\n",
              "    [theme=dark] .colab-df-convert:hover {\n",
              "      background-color: #434B5C;\n",
              "      box-shadow: 0px 1px 3px 1px rgba(0, 0, 0, 0.15);\n",
              "      filter: drop-shadow(0px 1px 2px rgba(0, 0, 0, 0.3));\n",
              "      fill: #FFFFFF;\n",
              "    }\n",
              "  </style>\n",
              "\n",
              "      <script>\n",
              "        const buttonEl =\n",
              "          document.querySelector('#df-58df3dc0-1d8e-4bd8-a988-0b95c2326d2a button.colab-df-convert');\n",
              "        buttonEl.style.display =\n",
              "          google.colab.kernel.accessAllowed ? 'block' : 'none';\n",
              "\n",
              "        async function convertToInteractive(key) {\n",
              "          const element = document.querySelector('#df-58df3dc0-1d8e-4bd8-a988-0b95c2326d2a');\n",
              "          const dataTable =\n",
              "            await google.colab.kernel.invokeFunction('convertToInteractive',\n",
              "                                                     [key], {});\n",
              "          if (!dataTable) return;\n",
              "\n",
              "          const docLinkHtml = 'Like what you see? Visit the ' +\n",
              "            '<a target=\"_blank\" href=https://colab.research.google.com/notebooks/data_table.ipynb>data table notebook</a>'\n",
              "            + ' to learn more about interactive tables.';\n",
              "          element.innerHTML = '';\n",
              "          dataTable['output_type'] = 'display_data';\n",
              "          await google.colab.output.renderOutput(dataTable, element);\n",
              "          const docLink = document.createElement('div');\n",
              "          docLink.innerHTML = docLinkHtml;\n",
              "          element.appendChild(docLink);\n",
              "        }\n",
              "      </script>\n",
              "    </div>\n",
              "  </div>\n",
              "  "
            ],
            "text/plain": [
              "          domain                                               text\n",
              "0     space_live  Первый человек, вышедший в открытый космос – А...\n",
              "1     space_live  Лунный заговор в мировом кинематографе: расска...\n",
              "2     space_live  В последние годы ведётся много разговоров о по...\n",
              "3     space_live  Скоро на обратную сторону Луны упадёт часть Fa...\n",
              "4     space_live  «Луне-9» — 56 лет!\\n\\n3 февраля 1966 года сове...\n",
              "...          ...                                                ...\n",
              "4968  space_live  Комета L4 PANSTARRS растет и набирает яркость....\n",
              "4969  space_live  Хотите предложить название для экзопланеты? Вс...\n",
              "4970  space_live  У Земли нашли третий радиационный пояс!\\n\\nРад...\n",
              "4971  space_live  Вращение чёрных дыр\\n\\nАмериканский орбитальны...\n",
              "4972  space_live  Новый снимок от VLT\\n\\nНаблюдая за звёздной си...\n",
              "\n",
              "[4973 rows x 2 columns]"
            ]
          },
          "metadata": {},
          "execution_count": 89
        }
      ]
    },
    {
      "cell_type": "markdown",
      "metadata": {
        "id": "RnhM7XrMubEV"
      },
      "source": [
        "Text processing"
      ]
    },
    {
      "cell_type": "code",
      "metadata": {
        "id": "Kbm0xeB4GcKx"
      },
      "source": [
        "model = build_model(configs.morpho_tagger.BERT.morpho_ru_syntagrus_bert,\n",
        "                    download=True)\n",
        "\n",
        "nltk.download('stopwords', quiet=True)\n",
        "stop_words = stopwords.words('russian')\n",
        "stop_words.extend(get_stop_words('ru'))\n",
        "stop_words.extend(['что', 'на', 'это', 'свой', 'из-за', 'вв', 'гг' 'г', 'совсем', 'сами', 'самих', 'их', 'бoлee',\n",
        "                   'кто-то', 'что-то', 'этa', 'вроде', 'всякий', 'никакой', 'самый', 'среди', 'наверно', 'тд'])\n",
        "stop_words = list(set(stop_words))\n",
        "\n",
        "punctuation += '№«»“”×…—'"
      ],
      "execution_count": null,
      "outputs": []
    },
    {
      "cell_type": "code",
      "metadata": {
        "id": "47qyyBtowm1h"
      },
      "source": [
        "def lemmatization(text):\n",
        "    lemmas = [lemma.split('\\t')[2] \n",
        "              for sentence_piece in model([text])\n",
        "              for lemma in sentence_piece.split('\\n')\n",
        "              if lemma]\n",
        "    return ' '.join(lemmas)"
      ],
      "execution_count": null,
      "outputs": []
    },
    {
      "cell_type": "code",
      "metadata": {
        "id": "VN4A5cUN6rtb"
      },
      "source": [
        "def delete_emojis(text):\n",
        "    characters = re.compile(\"[\"\n",
        "                        u\"\\U0001F600-\\U0001F64F\"\n",
        "                        u\"\\U0001F300-\\U0001F5FF\"\n",
        "                        u\"\\U0001F680-\\U0001F6FF\"\n",
        "                        u\"\\U0001F1E0-\\U0001F1FF\"\n",
        "                        u\"\\U00002500-\\U00002BEF\"\n",
        "                        u\"\\U00002702-\\U000027B0\"\n",
        "                        u\"\\U00002702-\\U000027B0\"\n",
        "                        u\"\\U000024C2-\\U0001F251\"\n",
        "                        u\"\\U0001f926-\\U0001f937\"\n",
        "                        u\"\\U00010000-\\U0010ffff\"\n",
        "                        u\"\\u2640-\\u2642\" \n",
        "                        u\"\\u2600-\\u2B55\"\n",
        "                        u\"\\u200d\"\n",
        "                        u\"\\u23cf\"\n",
        "                        u\"\\u23e9\"\n",
        "                        u\"\\u231a\"\n",
        "                        u\"\\ufe0f\"\n",
        "                        u\"\\u3030\"\n",
        "                      \"]+\", re.UNICODE)\n",
        "    return re.sub(characters, '', text)"
      ],
      "execution_count": null,
      "outputs": []
    },
    {
      "cell_type": "code",
      "metadata": {
        "id": "0e7Q6FIx7J76"
      },
      "source": [
        "def delete_hashtags(text):\n",
        "    hashtags = re.findall(r'\\B[#@]\\w*[a-zA-Zа-яА-Я]+\\w*', text)\n",
        "    for hashtag in hashtags:\n",
        "        text = re.sub(hashtag, '', text)\n",
        "    return text"
      ],
      "execution_count": null,
      "outputs": []
    },
    {
      "cell_type": "code",
      "source": [
        "def delete_stop_words(texts):\n",
        "    return [' '.join([word for word in text.split() if word not in stop_words])\n",
        "                      for text in texts]"
      ],
      "metadata": {
        "id": "aExueXe8j3OG"
      },
      "execution_count": null,
      "outputs": []
    },
    {
      "cell_type": "code",
      "metadata": {
        "id": "zUL9V5P6cosx"
      },
      "source": [
        "def text_processing(texts,\n",
        "                    lemmatize=True,\n",
        "                    remove_punctuation=True,\n",
        "                    remove_urls=True,\n",
        "                    remove_digits=True,\n",
        "                    remove_stop_words=True,\n",
        "                    remove_single_chars=True,\n",
        "                    remove_emojis=True,\n",
        "                    remove_hashtags=True):\n",
        "    \n",
        "    texts = [text.strip(' \"\\n\\t\\r') for text in texts]\n",
        "    texts = [text.translate(str.maketrans('\\n\\t\\r', '   ')) for text in texts]\n",
        "    \n",
        "    if remove_stop_words:\n",
        "        texts = delete_stop_words(texts)\n",
        "\n",
        "    if remove_urls:\n",
        "        texts =  [delete_urls(text) for text in texts]\n",
        "\n",
        "    if remove_punctuation:\n",
        "        texts = [text.replace('-', ' ') for text in texts]\n",
        "\n",
        "    if remove_emojis:\n",
        "        texts = [delete_emojis(text) for text in texts]\n",
        "\n",
        "    if remove_hashtags: # and mentions\n",
        "        texts = [delete_hashtags(text) for text in texts]\n",
        "\n",
        "    if lemmatize:\n",
        "        texts = [lemmatization(text) for text in texts]\n",
        "\n",
        "    if remove_digits:\n",
        "        texts = [text.translate(str.maketrans('', '', digits)) for text in texts]\n",
        "    \n",
        "    if remove_stop_words:\n",
        "        texts = delete_stop_words(texts)\n",
        "\n",
        "    if remove_punctuation:\n",
        "        texts = [text.translate(str.maketrans('', '', punctuation)) for text in texts]\n",
        "\n",
        "    if remove_single_chars:\n",
        "        texts = [' '.join([sentence_piece for sentence_piece in text.split()\n",
        "                           if len(sentence_piece) > 1]) for text in texts]\n",
        "\n",
        "    return texts"
      ],
      "execution_count": null,
      "outputs": []
    },
    {
      "cell_type": "markdown",
      "metadata": {
        "id": "pddFxQhTMnWa"
      },
      "source": [
        "Creation of batches"
      ]
    },
    {
      "cell_type": "code",
      "metadata": {
        "id": "5FUE1lHCmyqB"
      },
      "source": [
        "def create_sentence_batches(text):\n",
        "    sentences = sent_tokenize(text)\n",
        "    sentence_batches = []\n",
        "    while sentences:\n",
        "        max_count = sum(size + sep <= 1000 for sep, size in enumerate(accumulate(map(len, sentences))))\n",
        "        sentence_batches.append(' '.join(sentences[:max_count]))\n",
        "        sentences = sentences[max_count:]\n",
        "    return sentence_batches"
      ],
      "execution_count": null,
      "outputs": []
    },
    {
      "cell_type": "code",
      "metadata": {
        "id": "DsG5HM06u0FN"
      },
      "source": [
        "def create_n_grams(text, n_gram_range):\n",
        "    n_grams = []\n",
        "    for n in range(n_gram_range[0], n_gram_range[1] + 1):\n",
        "        n_grams.extend(['_'.join(n_gram) for n_gram in ngrams(text.split(), n)])\n",
        "    return n_grams"
      ],
      "execution_count": null,
      "outputs": []
    },
    {
      "cell_type": "code",
      "metadata": {
        "id": "bBvp0TYZLM58"
      },
      "source": [
        "def create_batches(texts, n_gram_range, path):\n",
        "    sentence_batches = [create_sentence_batches(text) for text in texts]\n",
        "    texts = [text_processing(sentence_batch) for sentence_batch in sentence_batches]\n",
        "    texts = [' '.join(text) for text in texts]\n",
        "    texts = [create_n_grams(text, n_gram_range) for text in texts]\n",
        "    token_frequencies = [FreqDist(text) for text in texts]\n",
        "    token_frequencies = [[(key + ':' + str(value)) for key, value in freq_dist.items()] for freq_dist in token_frequencies]\n",
        "\n",
        "    with open(join(path, 'data'), 'w') as file:\n",
        "        for n in range(len(texts)):\n",
        "            file.write(f'doc{n} {\" \".join(token_frequencies[n])}\\n')\n",
        "    \n",
        "    with open(join(path, 'preprocessed_texts'), 'w') as file:\n",
        "        for n in range(len(texts)):\n",
        "            file.write(f'{\" \".join(texts[n])}\\n')\n",
        "\n",
        "    batch_vectorizer = artm.BatchVectorizer(data_path=join(path, 'data'),\n",
        "                                            data_format='vowpal_wabbit',\n",
        "                                            target_folder=join(path, 'batches'))\n",
        "    return batch_vectorizer, texts"
      ],
      "execution_count": null,
      "outputs": []
    },
    {
      "cell_type": "code",
      "metadata": {
        "id": "EDcMlu81fcZN"
      },
      "source": [
        "def load_batches(path):\n",
        "    batch_vectorizer = artm.BatchVectorizer(data_path=join(path, 'data'),\n",
        "                                            data_format='vowpal_wabbit',\n",
        "                                            target_folder=join(path, 'batches'))\n",
        "    \n",
        "    with open(join(path, 'preprocessed_texts'), 'r') as file:\n",
        "        texts = file.readlines()\n",
        "    texts = [text.strip('\\n').split() for text in texts]\n",
        "    \n",
        "    return batch_vectorizer, texts"
      ],
      "execution_count": null,
      "outputs": []
    },
    {
      "cell_type": "code",
      "metadata": {
        "id": "YcdAr0KFY_He"
      },
      "source": [
        "# batch_vectorizer, texts = create_batches(arts, (1, 3), path)"
      ],
      "execution_count": null,
      "outputs": []
    },
    {
      "cell_type": "code",
      "metadata": {
        "id": "jR7qKRu6YP9K"
      },
      "source": [
        "batch_vectorizer, texts = load_batches(path)"
      ],
      "execution_count": null,
      "outputs": []
    },
    {
      "cell_type": "markdown",
      "source": [
        "Model parameters"
      ],
      "metadata": {
        "id": "Sm1Y00gKsvDf"
      }
    },
    {
      "cell_type": "code",
      "source": [
        "param_dict = {'domain': ['art', 'art'],\n",
        "              '#_topics': [25, 50],\n",
        "              'SparsePhiSubject': [],\n",
        "              'SparsePhiBackground': [],\n",
        "              'SparseThetaSubject': [],\n",
        "              'SparseThetaBackground': [],\n",
        "              'DecorrelatorPhi': []}"
      ],
      "metadata": {
        "id": "bfK2ujf-sufV"
      },
      "execution_count": null,
      "outputs": []
    },
    {
      "cell_type": "markdown",
      "metadata": {
        "id": "o2WRb9GFMi7X"
      },
      "source": [
        "Model fitting"
      ]
    },
    {
      "cell_type": "code",
      "metadata": {
        "id": "fo8KZLJ8zX__"
      },
      "source": [
        "def create_topic_names(n_subject_topics, n_background_topics):\n",
        "    subject_topics = ['subject topic #' + str(n) for n in range(1, n_subject_topics + 1)]\n",
        "    background_topics = ['background topic #' + str(n) for n in range(1, n_background_topics + 1)]\n",
        "    return subject_topics, background_topics"
      ],
      "execution_count": null,
      "outputs": []
    },
    {
      "cell_type": "code",
      "metadata": {
        "id": "6tlKd9YZz-LP"
      },
      "source": [
        "subject_topics, background_topics = create_topic_names(10, 2)"
      ],
      "execution_count": null,
      "outputs": []
    },
    {
      "cell_type": "code",
      "metadata": {
        "id": "CgdJ5cUAXXm6"
      },
      "source": [
        "def fit_model(batch_vectorizer,\n",
        "              num_document_passes,\n",
        "              num_collection_passes,\n",
        "              scores, regularizers,\n",
        "              subject_topics,\n",
        "              background_topics):\n",
        "\n",
        "    topics = subject_topics.copy()\n",
        "    topics.extend(background_topics)\n",
        "\n",
        "    model_artm = artm.ARTM(topic_names=topics,\n",
        "                           cache_theta=True,\n",
        "                           scores=scores,\n",
        "                           regularizers=regularizers,\n",
        "                           num_document_passes=num_document_passes)\n",
        "\n",
        "    model_artm.initialize(dictionary=batch_vectorizer.dictionary)\n",
        "\n",
        "    model_artm.fit_offline(batch_vectorizer=batch_vectorizer,\n",
        "                           num_collection_passes=num_collection_passes)\n",
        "    \n",
        "    return model_artm"
      ],
      "execution_count": null,
      "outputs": []
    },
    {
      "cell_type": "code",
      "metadata": {
        "id": "uBTMYSdOA-F2"
      },
      "source": [
        "regularizers = [artm.SmoothSparsePhiRegularizer(name='SparsePhiSubject', topic_names=subject_topics, tau=-0.5),\n",
        "                artm.SmoothSparsePhiRegularizer(name='SparsePhiBackground', topic_names=background_topics, tau=0.5),\n",
        "                artm.SmoothSparseThetaRegularizer(name='SparseThetaSubject', topic_names=subject_topics, tau=-2.0),\n",
        "                artm.SmoothSparseThetaRegularizer(name='SparseThetaBackground', topic_names=background_topics, tau=2.0),\n",
        "                artm.DecorrelatorPhiRegularizer(name='DecorrelatorPhi', topic_names=subject_topics, tau=100000.0)]"
      ],
      "execution_count": null,
      "outputs": []
    },
    {
      "cell_type": "code",
      "metadata": {
        "id": "NQxAh4ms-h4P"
      },
      "source": [
        "scores = [artm.PerplexityScore(name='PerplexityScore', dictionary=batch_vectorizer.dictionary),\n",
        "          artm.SparsityPhiScore(name='SparsityPhiScoreSubject', topic_names=subject_topics),\n",
        "          artm.SparsityPhiScore(name='SparsityPhiScoreBackground', topic_names=background_topics),\n",
        "          artm.SparsityThetaScore(name='SparsityThetaScoreSubject', topic_names=subject_topics),\n",
        "          artm.SparsityThetaScore(name='SparsityThetaScoreBackground', topic_names=background_topics),\n",
        "          artm.TopicKernelScore(name='TopicKernelScore', probability_mass_threshold=0.3),\n",
        "          artm.BackgroundTokensRatioScore(name='BackgroundTokensRatioScore', delta_threshold=0.3),\n",
        "          artm.TopTokensScore(name='TopTokensScore', num_tokens=20)]"
      ],
      "execution_count": null,
      "outputs": []
    },
    {
      "cell_type": "code",
      "metadata": {
        "id": "9fHblfKbYRYa"
      },
      "source": [
        "model_artm = fit_model(batch_vectorizer, 30, 9, scores, regularizers, subject_topics, background_topics) "
      ],
      "execution_count": null,
      "outputs": []
    },
    {
      "cell_type": "code",
      "metadata": {
        "id": "3yOG0UBiWp17"
      },
      "source": [
        "def to_pad(words, target_len):\n",
        "    return words[:target_len] + [' '] * (target_len - len(words))"
      ],
      "execution_count": null,
      "outputs": []
    },
    {
      "cell_type": "code",
      "metadata": {
        "id": "B2oLVhJUW51f"
      },
      "source": [
        "to_dataframe = model_artm.score_tracker['TopTokensScore'].last_tokens\n",
        "for key, value in to_dataframe.items():\n",
        "    to_dataframe[key] = to_pad(value, 20)"
      ],
      "execution_count": null,
      "outputs": []
    },
    {
      "cell_type": "code",
      "metadata": {
        "id": "3KhpqVn5Z1ES",
        "colab": {
          "base_uri": "https://localhost:8080/",
          "height": 758
        },
        "outputId": "3aadb4b7-eb81-41b8-9d70-431c284884ae"
      },
      "source": [
        "pd.DataFrame(to_dataframe)"
      ],
      "execution_count": null,
      "outputs": [
        {
          "output_type": "execute_result",
          "data": {
            "text/html": [
              "\n",
              "  <div id=\"df-e888f3b5-32b1-4d44-9f1d-657d5a47feaf\">\n",
              "    <div class=\"colab-df-container\">\n",
              "      <div>\n",
              "<style scoped>\n",
              "    .dataframe tbody tr th:only-of-type {\n",
              "        vertical-align: middle;\n",
              "    }\n",
              "\n",
              "    .dataframe tbody tr th {\n",
              "        vertical-align: top;\n",
              "    }\n",
              "\n",
              "    .dataframe thead th {\n",
              "        text-align: right;\n",
              "    }\n",
              "</style>\n",
              "<table border=\"1\" class=\"dataframe\">\n",
              "  <thead>\n",
              "    <tr style=\"text-align: right;\">\n",
              "      <th></th>\n",
              "      <th>subject topic #1</th>\n",
              "      <th>subject topic #2</th>\n",
              "      <th>subject topic #3</th>\n",
              "      <th>subject topic #4</th>\n",
              "      <th>subject topic #5</th>\n",
              "      <th>subject topic #6</th>\n",
              "      <th>subject topic #7</th>\n",
              "      <th>subject topic #8</th>\n",
              "      <th>subject topic #9</th>\n",
              "      <th>subject topic #10</th>\n",
              "      <th>background topic #1</th>\n",
              "      <th>background topic #2</th>\n",
              "    </tr>\n",
              "  </thead>\n",
              "  <tbody>\n",
              "    <tr>\n",
              "      <th>0</th>\n",
              "      <td>зевс</td>\n",
              "      <td>ньюман</td>\n",
              "      <td>будда</td>\n",
              "      <td>нью</td>\n",
              "      <td>изабелла</td>\n",
              "      <td>зосима</td>\n",
              "      <td>скуол</td>\n",
              "      <td>тая</td>\n",
              "      <td>адонис</td>\n",
              "      <td>дуано</td>\n",
              "      <td>картина</td>\n",
              "      <td>картина</td>\n",
              "    </tr>\n",
              "    <tr>\n",
              "      <th>1</th>\n",
              "      <td>учитель</td>\n",
              "      <td>фотограф</td>\n",
              "      <td>шалот</td>\n",
              "      <td>такси</td>\n",
              "      <td>брат</td>\n",
              "      <td>молитва</td>\n",
              "      <td>тинторетто</td>\n",
              "      <td>героиня</td>\n",
              "      <td>гога</td>\n",
              "      <td>король</td>\n",
              "      <td>художник</td>\n",
              "      <td>художник</td>\n",
              "    </tr>\n",
              "    <tr>\n",
              "      <th>2</th>\n",
              "      <td>потоп</td>\n",
              "      <td>врубель</td>\n",
              "      <td>статуя</td>\n",
              "      <td>гофман</td>\n",
              "      <td>пандора</td>\n",
              "      <td>пустыня</td>\n",
              "      <td>ди_сан</td>\n",
              "      <td>такао</td>\n",
              "      <td>ван_гога</td>\n",
              "      <td>шевалье</td>\n",
              "      <td>работа</td>\n",
              "      <td>смерть</td>\n",
              "    </tr>\n",
              "    <tr>\n",
              "      <th>3</th>\n",
              "      <td>сом</td>\n",
              "      <td>арнольд</td>\n",
              "      <td>истина</td>\n",
              "      <td>невеста</td>\n",
              "      <td>лоренцо</td>\n",
              "      <td>господь</td>\n",
              "      <td>скуол_ди_сан</td>\n",
              "      <td>цунамунэ</td>\n",
              "      <td>автопортрет</td>\n",
              "      <td>снимок</td>\n",
              "      <td>святой</td>\n",
              "      <td>масло</td>\n",
              "    </tr>\n",
              "    <tr>\n",
              "      <th>4</th>\n",
              "      <td>ромбоутс</td>\n",
              "      <td>йорк</td>\n",
              "      <td>хогарт</td>\n",
              "      <td>пиросманить</td>\n",
              "      <td>шило</td>\n",
              "      <td>видеть</td>\n",
              "      <td>скуол_ди</td>\n",
              "      <td>единорог</td>\n",
              "      <td>ван_дейк</td>\n",
              "      <td>репин</td>\n",
              "      <td>холст</td>\n",
              "      <td>размер</td>\n",
              "    </tr>\n",
              "    <tr>\n",
              "      <th>5</th>\n",
              "      <td>теодор</td>\n",
              "      <td>нью_йорк</td>\n",
              "      <td>зеркало</td>\n",
              "      <td>вакх</td>\n",
              "      <td>зло</td>\n",
              "      <td>грешный</td>\n",
              "      <td>зал</td>\n",
              "      <td>чёрный</td>\n",
              "      <td>дейк</td>\n",
              "      <td>москва</td>\n",
              "      <td>размер</td>\n",
              "      <td>работа</td>\n",
              "    </tr>\n",
              "    <tr>\n",
              "      <th>6</th>\n",
              "      <td>библия</td>\n",
              "      <td>арнольд_ньюман</td>\n",
              "      <td>серов</td>\n",
              "      <td>государственный_третьяковский_галерея</td>\n",
              "      <td>лентулов</td>\n",
              "      <td>преподобный</td>\n",
              "      <td>сан</td>\n",
              "      <td>офелия</td>\n",
              "      <td>афродита</td>\n",
              "      <td>пимоненко</td>\n",
              "      <td>масло</td>\n",
              "      <td>масло_размер</td>\n",
              "    </tr>\n",
              "    <tr>\n",
              "      <th>7</th>\n",
              "      <td>караваджо</td>\n",
              "      <td>сын</td>\n",
              "      <td>патриция</td>\n",
              "      <td>уэйн</td>\n",
              "      <td>дейнека</td>\n",
              "      <td>церковь</td>\n",
              "      <td>сан_рокко</td>\n",
              "      <td>младенец</td>\n",
              "      <td>астарта</td>\n",
              "      <td>поцелуй</td>\n",
              "      <td>сантиметр</td>\n",
              "      <td>сантиметр</td>\n",
              "    </tr>\n",
              "    <tr>\n",
              "      <th>8</th>\n",
              "      <td>инвалид_война</td>\n",
              "      <td>белый</td>\n",
              "      <td>кот</td>\n",
              "      <td>дельво</td>\n",
              "      <td>климт</td>\n",
              "      <td>иордан</td>\n",
              "      <td>ди_сан_рокко</td>\n",
              "      <td>мадонна</td>\n",
              "      <td>богиня</td>\n",
              "      <td>альберт</td>\n",
              "      <td>искусство</td>\n",
              "      <td>холст</td>\n",
              "    </tr>\n",
              "    <tr>\n",
              "      <th>9</th>\n",
              "      <td>теодор_ромбоутс</td>\n",
              "      <td>миро</td>\n",
              "      <td>гравюра</td>\n",
              "      <td>нико</td>\n",
              "      <td>море</td>\n",
              "      <td>ради</td>\n",
              "      <td>рокко</td>\n",
              "      <td>далее</td>\n",
              "      <td>бедность</td>\n",
              "      <td>илья</td>\n",
              "      <td>холст_масло</td>\n",
              "      <td>искусство</td>\n",
              "    </tr>\n",
              "    <tr>\n",
              "      <th>10</th>\n",
              "      <td>зубодёр</td>\n",
              "      <td>карлик</td>\n",
              "      <td>буддийский</td>\n",
              "      <td>малевич</td>\n",
              "      <td>принести</td>\n",
              "      <td>старец</td>\n",
              "      <td>асклепий</td>\n",
              "      <td>знаменитый</td>\n",
              "      <td>кошелев</td>\n",
              "      <td>эон</td>\n",
              "      <td>изобразить</td>\n",
              "      <td>размер_сантиметр</td>\n",
              "    </tr>\n",
              "    <tr>\n",
              "      <th>11</th>\n",
              "      <td>больной</td>\n",
              "      <td>говорить</td>\n",
              "      <td>бремен</td>\n",
              "      <td>третьяковский</td>\n",
              "      <td>базилик</td>\n",
              "      <td>молиться</td>\n",
              "      <td>голгофа</td>\n",
              "      <td>храм</td>\n",
              "      <td>винсент_ван</td>\n",
              "      <td>далее_эон</td>\n",
              "      <td>музей</td>\n",
              "      <td>холст_масло</td>\n",
              "    </tr>\n",
              "    <tr>\n",
              "      <th>12</th>\n",
              "      <td>образование</td>\n",
              "      <td>уайльд</td>\n",
              "      <td>уста</td>\n",
              "      <td>персонаж</td>\n",
              "      <td>горшок</td>\n",
              "      <td>душа</td>\n",
              "      <td>живописный</td>\n",
              "      <td>дзи</td>\n",
              "      <td>скандальный</td>\n",
              "      <td>жуковский</td>\n",
              "      <td>полотно</td>\n",
              "      <td>написать</td>\n",
              "    </tr>\n",
              "    <tr>\n",
              "      <th>13</th>\n",
              "      <td>винсент</td>\n",
              "      <td>рафаэль_пил</td>\n",
              "      <td>уильям_хогарт</td>\n",
              "      <td>обычный</td>\n",
              "      <td>сосуд</td>\n",
              "      <td>покаяние</td>\n",
              "      <td>дикс</td>\n",
              "      <td>диптих</td>\n",
              "      <td>царство</td>\n",
              "      <td>выставка</td>\n",
              "      <td>стать</td>\n",
              "      <td>образ</td>\n",
              "    </tr>\n",
              "    <tr>\n",
              "      <th>14</th>\n",
              "      <td>винсент_ван_гога</td>\n",
              "      <td>грегорио</td>\n",
              "      <td>страна</td>\n",
              "      <td>голова_крестьянский_девушка</td>\n",
              "      <td>дар</td>\n",
              "      <td>тотчас</td>\n",
              "      <td>потолок</td>\n",
              "      <td>могильщик</td>\n",
              "      <td>сирийский</td>\n",
              "      <td>даная</td>\n",
              "      <td>женщина</td>\n",
              "      <td>масло_размер_сантиметр</td>\n",
              "    </tr>\n",
              "    <tr>\n",
              "      <th>15</th>\n",
              "      <td>эпиметей</td>\n",
              "      <td>съёмка</td>\n",
              "      <td>род</td>\n",
              "      <td>голова_крестьянский</td>\n",
              "      <td>каин</td>\n",
              "      <td>рерих</td>\n",
              "      <td>васильев</td>\n",
              "      <td>могила</td>\n",
              "      <td>мастерство</td>\n",
              "      <td>илья_репин</td>\n",
              "      <td>размер_сантиметр</td>\n",
              "      <td>холст_масло_размер</td>\n",
              "    </tr>\n",
              "    <tr>\n",
              "      <th>16</th>\n",
              "      <td>создавать</td>\n",
              "      <td>летний</td>\n",
              "      <td>река</td>\n",
              "      <td>крестьянский_девушка</td>\n",
              "      <td>авель</td>\n",
              "      <td>войти</td>\n",
              "      <td>распять</td>\n",
              "      <td>мадонна_младенец</td>\n",
              "      <td>скандал</td>\n",
              "      <td>шевалье_далее</td>\n",
              "      <td>девушка</td>\n",
              "      <td>полотно</td>\n",
              "    </tr>\n",
              "    <tr>\n",
              "      <th>17</th>\n",
              "      <td>пименов</td>\n",
              "      <td>выполнить</td>\n",
              "      <td>патриция_пиччининя</td>\n",
              "      <td>людвиг</td>\n",
              "      <td>клингер</td>\n",
              "      <td>идти</td>\n",
              "      <td>цикл</td>\n",
              "      <td>шевалье_далее_эон</td>\n",
              "      <td>россетти</td>\n",
              "      <td>этикетка</td>\n",
              "      <td>век</td>\n",
              "      <td>произведение</td>\n",
              "    </tr>\n",
              "    <tr>\n",
              "      <th>18</th>\n",
              "      <td>юрий</td>\n",
              "      <td>столько</td>\n",
              "      <td>пиччининя</td>\n",
              "      <td>яцек_мальчевский</td>\n",
              "      <td>тритон</td>\n",
              "      <td>монастырь</td>\n",
              "      <td>марта</td>\n",
              "      <td>последний</td>\n",
              "      <td>собственный</td>\n",
              "      <td>сценка</td>\n",
              "      <td>мир</td>\n",
              "      <td>музей</td>\n",
              "    </tr>\n",
              "    <tr>\n",
              "      <th>19</th>\n",
              "      <td>юрий_пименов</td>\n",
              "      <td>врач</td>\n",
              "      <td>божество</td>\n",
              "      <td>мальчевский</td>\n",
              "      <td>прометей</td>\n",
              "      <td>пред</td>\n",
              "      <td>муза</td>\n",
              "      <td>итальянский</td>\n",
              "      <td>отличаться</td>\n",
              "      <td>пить</td>\n",
              "      <td>авва</td>\n",
              "      <td>рука</td>\n",
              "    </tr>\n",
              "  </tbody>\n",
              "</table>\n",
              "</div>\n",
              "      <button class=\"colab-df-convert\" onclick=\"convertToInteractive('df-e888f3b5-32b1-4d44-9f1d-657d5a47feaf')\"\n",
              "              title=\"Convert this dataframe to an interactive table.\"\n",
              "              style=\"display:none;\">\n",
              "        \n",
              "  <svg xmlns=\"http://www.w3.org/2000/svg\" height=\"24px\"viewBox=\"0 0 24 24\"\n",
              "       width=\"24px\">\n",
              "    <path d=\"M0 0h24v24H0V0z\" fill=\"none\"/>\n",
              "    <path d=\"M18.56 5.44l.94 2.06.94-2.06 2.06-.94-2.06-.94-.94-2.06-.94 2.06-2.06.94zm-11 1L8.5 8.5l.94-2.06 2.06-.94-2.06-.94L8.5 2.5l-.94 2.06-2.06.94zm10 10l.94 2.06.94-2.06 2.06-.94-2.06-.94-.94-2.06-.94 2.06-2.06.94z\"/><path d=\"M17.41 7.96l-1.37-1.37c-.4-.4-.92-.59-1.43-.59-.52 0-1.04.2-1.43.59L10.3 9.45l-7.72 7.72c-.78.78-.78 2.05 0 2.83L4 21.41c.39.39.9.59 1.41.59.51 0 1.02-.2 1.41-.59l7.78-7.78 2.81-2.81c.8-.78.8-2.07 0-2.86zM5.41 20L4 18.59l7.72-7.72 1.47 1.35L5.41 20z\"/>\n",
              "  </svg>\n",
              "      </button>\n",
              "      \n",
              "  <style>\n",
              "    .colab-df-container {\n",
              "      display:flex;\n",
              "      flex-wrap:wrap;\n",
              "      gap: 12px;\n",
              "    }\n",
              "\n",
              "    .colab-df-convert {\n",
              "      background-color: #E8F0FE;\n",
              "      border: none;\n",
              "      border-radius: 50%;\n",
              "      cursor: pointer;\n",
              "      display: none;\n",
              "      fill: #1967D2;\n",
              "      height: 32px;\n",
              "      padding: 0 0 0 0;\n",
              "      width: 32px;\n",
              "    }\n",
              "\n",
              "    .colab-df-convert:hover {\n",
              "      background-color: #E2EBFA;\n",
              "      box-shadow: 0px 1px 2px rgba(60, 64, 67, 0.3), 0px 1px 3px 1px rgba(60, 64, 67, 0.15);\n",
              "      fill: #174EA6;\n",
              "    }\n",
              "\n",
              "    [theme=dark] .colab-df-convert {\n",
              "      background-color: #3B4455;\n",
              "      fill: #D2E3FC;\n",
              "    }\n",
              "\n",
              "    [theme=dark] .colab-df-convert:hover {\n",
              "      background-color: #434B5C;\n",
              "      box-shadow: 0px 1px 3px 1px rgba(0, 0, 0, 0.15);\n",
              "      filter: drop-shadow(0px 1px 2px rgba(0, 0, 0, 0.3));\n",
              "      fill: #FFFFFF;\n",
              "    }\n",
              "  </style>\n",
              "\n",
              "      <script>\n",
              "        const buttonEl =\n",
              "          document.querySelector('#df-e888f3b5-32b1-4d44-9f1d-657d5a47feaf button.colab-df-convert');\n",
              "        buttonEl.style.display =\n",
              "          google.colab.kernel.accessAllowed ? 'block' : 'none';\n",
              "\n",
              "        async function convertToInteractive(key) {\n",
              "          const element = document.querySelector('#df-e888f3b5-32b1-4d44-9f1d-657d5a47feaf');\n",
              "          const dataTable =\n",
              "            await google.colab.kernel.invokeFunction('convertToInteractive',\n",
              "                                                     [key], {});\n",
              "          if (!dataTable) return;\n",
              "\n",
              "          const docLinkHtml = 'Like what you see? Visit the ' +\n",
              "            '<a target=\"_blank\" href=https://colab.research.google.com/notebooks/data_table.ipynb>data table notebook</a>'\n",
              "            + ' to learn more about interactive tables.';\n",
              "          element.innerHTML = '';\n",
              "          dataTable['output_type'] = 'display_data';\n",
              "          await google.colab.output.renderOutput(dataTable, element);\n",
              "          const docLink = document.createElement('div');\n",
              "          docLink.innerHTML = docLinkHtml;\n",
              "          element.appendChild(docLink);\n",
              "        }\n",
              "      </script>\n",
              "    </div>\n",
              "  </div>\n",
              "  "
            ],
            "text/plain": [
              "    subject topic #1  ...     background topic #2\n",
              "0               зевс  ...                 картина\n",
              "1            учитель  ...                художник\n",
              "2              потоп  ...                  смерть\n",
              "3                сом  ...                   масло\n",
              "4           ромбоутс  ...                  размер\n",
              "5             теодор  ...                  работа\n",
              "6             библия  ...            масло_размер\n",
              "7          караваджо  ...               сантиметр\n",
              "8      инвалид_война  ...                   холст\n",
              "9    теодор_ромбоутс  ...               искусство\n",
              "10           зубодёр  ...        размер_сантиметр\n",
              "11           больной  ...             холст_масло\n",
              "12       образование  ...                написать\n",
              "13           винсент  ...                   образ\n",
              "14  винсент_ван_гога  ...  масло_размер_сантиметр\n",
              "15          эпиметей  ...      холст_масло_размер\n",
              "16         создавать  ...                 полотно\n",
              "17           пименов  ...            произведение\n",
              "18              юрий  ...                   музей\n",
              "19      юрий_пименов  ...                    рука\n",
              "\n",
              "[20 rows x 12 columns]"
            ]
          },
          "metadata": {},
          "execution_count": 73
        }
      ]
    },
    {
      "cell_type": "code",
      "metadata": {
        "id": "hf87g7TbVtn-"
      },
      "source": [
        "topics = [model_artm.score_tracker['TopTokensScore'].last_tokens[topic_name] for topic_name in model_artm.topic_names]\n",
        "topics = topics[:10]"
      ],
      "execution_count": null,
      "outputs": []
    },
    {
      "cell_type": "code",
      "metadata": {
        "id": "JPHHCu4vMtMX"
      },
      "source": [
        "def save_topics(model_artm, path):\n",
        "    with open(join(path, 'topics.json'), 'w', encoding='utf-8') as file:\n",
        "        json.dump(model_artm.score_tracker['TopTokensScore'].last_tokens,\n",
        "                  file,\n",
        "                  ensure_ascii=False,\n",
        "                  indent=4)"
      ],
      "execution_count": null,
      "outputs": []
    },
    {
      "cell_type": "markdown",
      "metadata": {
        "id": "A2ARzyfyYbKj"
      },
      "source": [
        "Coherence, PMI, NPMI"
      ]
    },
    {
      "cell_type": "code",
      "metadata": {
        "id": "hfR9Ia8f_Dpz"
      },
      "source": [
        "def calculate_coherence(topics, corpus, dictionary, texts, type_):\n",
        "    coherence_model = CoherenceModel(topics=topics,\n",
        "                                     corpus=corpus,\n",
        "                                     dictionary=dictionary,\n",
        "                                     texts=texts,\n",
        "                                     coherence=type_)\n",
        "    return coherence_model.get_coherence()"
      ],
      "execution_count": null,
      "outputs": []
    },
    {
      "cell_type": "markdown",
      "metadata": {
        "id": "eBjY3jP47vhM"
      },
      "source": [
        "Topic Significance"
      ]
    },
    {
      "cell_type": "code",
      "metadata": {
        "id": "APmo2-EtnDch"
      },
      "source": [
        "def kl_divergence(p, q):\n",
        "    return np.sum(np.where(p != 0, p * np.log(p / q), 0))"
      ],
      "execution_count": null,
      "outputs": []
    },
    {
      "cell_type": "markdown",
      "metadata": {
        "id": "60QuiYm2AGeR"
      },
      "source": [
        "Uniform Distribution Over Words (W-Uniform)"
      ]
    },
    {
      "cell_type": "code",
      "metadata": {
        "id": "-7kWMe-9dQJo"
      },
      "source": [
        "def ts_uniform(topic_word_dist):\n",
        "    n_words = topic_word_dist.shape[0]\n",
        "    w_uniform = np.ones(n_words) / n_words\n",
        "    uniform_distances_kl = [kl_divergence(p, w_uniform) for p in topic_word_dist.T]\n",
        "    return uniform_distances_kl"
      ],
      "execution_count": null,
      "outputs": []
    },
    {
      "cell_type": "markdown",
      "metadata": {
        "id": "sxZfL8PlIVo7"
      },
      "source": [
        "Vacuous Semantic Distribution (W-Vacuous)"
      ]
    },
    {
      "cell_type": "code",
      "metadata": {
        "id": "eCDbGNkQfWQC"
      },
      "source": [
        "def ts_vacuous(doc_topic_dist, topic_word_dist):\n",
        "    n_words = topic_word_dist.shape[0]\n",
        "    n_tokens = np.sum([len(text) for text in texts])\n",
        "    p_k = np.sum(doc_topic_dist, axis=1) / n_tokens\n",
        "    w_vacauous = np.sum(topic_word_dist * np.tile(p_k, (n_words, 1)), axis=1)\n",
        "    vacauous_distances_kl = [kl_divergence(p, w_vacauous) for p in topic_word_dist.T]\n",
        "    return vacauous_distances_kl"
      ],
      "execution_count": null,
      "outputs": []
    },
    {
      "cell_type": "markdown",
      "metadata": {
        "id": "GJDZKB7MiRld"
      },
      "source": [
        "Background Distribution (D-BGround)"
      ]
    },
    {
      "cell_type": "code",
      "metadata": {
        "id": "SGAgQK4_jnwK"
      },
      "source": [
        "def ts_bground(doc_topic_dist):\n",
        "    n_documents = doc_topic_dist.shape[1]\n",
        "    d_bground = np.ones(n_documents) / n_documents\n",
        "    d_bground_distances_kl = [kl_divergence(p.T, d_bground) for p in doc_topic_dist]\n",
        "    return d_bground_distances_kl"
      ],
      "execution_count": null,
      "outputs": []
    },
    {
      "cell_type": "markdown",
      "metadata": {
        "id": "r8DqVdVcB0yT"
      },
      "source": [
        "SwitchP"
      ]
    },
    {
      "cell_type": "code",
      "metadata": {
        "id": "RCpR14mkF5gi"
      },
      "source": [
        "def switchp(phi, texts):\n",
        "    words = phi.index.to_list()\n",
        "    words = [word[1] for word in words]\n",
        "    max_topic_word_dist = np.argmax(phi.to_numpy(), axis=1)\n",
        "    max_topic_word_dist = dict(zip(words, max_topic_word_dist))\n",
        "    \n",
        "    switchp_scores = []\n",
        "    \n",
        "    for text in texts:\n",
        "        mapped_text = [max_topic_word_dist[word] for word in text]\n",
        "        switches = (np.diff(mapped_text) != 0).sum()\n",
        "        switchp_scores.append(switches / (len(mapped_text) - 1))\n",
        "    return switchp_scores"
      ],
      "execution_count": null,
      "outputs": []
    },
    {
      "cell_type": "code",
      "metadata": {
        "id": "S4neF89CtXhe"
      },
      "source": [
        "def print_measures(model_artm, texts, topics):\n",
        "    id2word = Dictionary(texts)\n",
        "    corpus = [id2word.doc2bow(text) for text in texts]\n",
        "    print(f'Coherence: {calculate_coherence(topics, corpus, id2word, texts, \"u_mass\")}')\n",
        "    print(f'PMI: {calculate_coherence(topics, corpus, id2word, texts, \"c_uci\")}')\n",
        "    print(f'NPMI: {calculate_coherence(topics, corpus, id2word, texts, \"c_npmi\")}')\n",
        "\n",
        "    # 'Theta' (Θ) - rows representing a distribution of topics over documents.   \n",
        "    # 'Phi' (Φ) - rows representing a distribution of words over topics.\n",
        "    topic_word_dist = model_artm.get_phi().to_numpy()[:, :10]\n",
        "    doc_topic_dist = model_artm.get_theta().to_numpy()[:10, :]\n",
        "\n",
        "    print(f'Topic Significance - Uniform Distribution Over Words: {np.mean(ts_uniform(topic_word_dist))}')\n",
        "    print(f'Topic Significance - Vacuous Semantic Distribution: {np.mean(ts_vacuous(doc_topic_dist, topic_word_dist))}')\n",
        "    print(f'Topic Significance - Background Distribution: {np.mean(ts_bground(doc_topic_dist))}')\n",
        "\n",
        "    switchp_scores = switchp(model_artm.get_phi(), texts)\n",
        "    print(f'SwitchP mean: {np.mean(switchp_scores)}')\n",
        "\n",
        "    print(f'Sparsity Phi Score Subject: {model_artm.score_tracker[\"SparsityPhiScoreSubject\"].last_value:.3f}')\n",
        "    print(f'Sparsity Theta Score Subject: {model_artm.score_tracker[\"SparsityThetaScoreSubject\"].last_value:.3f}')\n",
        "    print(f'Kernel contrast: {model_artm.score_tracker[\"TopicKernelScore\"].last_average_contrast:.3f}')\n",
        "    print(f'Kernel purity: {model_artm.score_tracker[\"TopicKernelScore\"].last_average_purity:.3f}')\n",
        "    print(f'Perplexity: {model_artm.score_tracker[\"PerplexityScore\"].last_value:.3f}')\n",
        "    print(f'Background Tokens Ratio Score: {model_artm.score_tracker[\"BackgroundTokensRatioScore\"].last_value:.3f}')"
      ],
      "execution_count": null,
      "outputs": []
    },
    {
      "cell_type": "code",
      "metadata": {
        "colab": {
          "base_uri": "https://localhost:8080/"
        },
        "id": "9ZvJBx7WpYYr",
        "outputId": "9fb0fb60-70b6-414c-ccbb-92078128bb58"
      },
      "source": [
        "print_measures(model_artm, texts, topics)"
      ],
      "execution_count": null,
      "outputs": [
        {
          "output_type": "stream",
          "name": "stdout",
          "text": [
            "Coherence: -15.300875950796533\n",
            "PMI: -10.953407603269863\n",
            "NPMI: -0.34015853413559316\n",
            "Topic Significance - Uniform Distribution Over Words: 5.927156602050298\n",
            "Topic Significance - Vacuous Semantic Distribution: 11.242843627929688\n",
            "Topic Significance - Background Distribution: 1.7692274866064257\n",
            "SwitchP mean: 0.25744934990231666\n",
            "Sparsity Phi Score Subject: 0.996\n",
            "Sparsity Theta Score Subject: 0.893\n",
            "Kernel contrast: 0.638\n",
            "Kernel purity: 0.919\n",
            "Perplexity: 18660.270\n",
            "Background Tokens Ratio Score: 0.044\n"
          ]
        }
      ]
    },
    {
      "cell_type": "code",
      "metadata": {
        "id": "jk6ngC-EErxl"
      },
      "source": [
        "def draw_artm_metrics(model_artm):\n",
        "    xs = list(range(len(model_artm.score_tracker['PerplexityScore'].value)))\n",
        "    figure = make_subplots(rows=4, cols=2,\n",
        "                           subplot_titles=('Perplexity',\n",
        "                                           'Background Tokens Ratio',\n",
        "                                           'Kernel Contrast',\n",
        "                                           'Kernel Purity',\n",
        "                                           'Sparsity Phi Score Subject',\n",
        "                                           'Sparsity Phi Score Background',\n",
        "                                           'Sparsity Theta Score Subject',\n",
        "                                           'Sparsity Theta Score Background'))\n",
        "\n",
        "    figure.add_trace(go.Scatter(x=xs, y=model_artm.score_tracker['PerplexityScore'].value),\n",
        "                     row=1, col=1)\n",
        "    figure.add_trace(go.Scatter(x=xs, y=model_artm.score_tracker['BackgroundTokensRatioScore'].value),\n",
        "                     row=1, col=2)\n",
        "    figure.add_trace(go.Scatter(x=xs, y=model_artm.score_tracker['TopicKernelScore'].average_contrast),\n",
        "                     row=2, col=1)\n",
        "    figure.add_trace(go.Scatter(x=xs, y=model_artm.score_tracker['TopicKernelScore'].average_purity),\n",
        "                     row=2, col=2)\n",
        "    figure.add_trace(go.Scatter(x=xs, y=model_artm.score_tracker['SparsityPhiScoreSubject'].value),\n",
        "                     row=3, col=1)\n",
        "    figure.add_trace(go.Scatter(x=xs, y=model_artm.score_tracker['SparsityPhiScoreBackground'].value),\n",
        "                     row=3, col=2)\n",
        "    figure.add_trace(go.Scatter(x=xs, y=model_artm.score_tracker['SparsityThetaScoreSubject'].value),\n",
        "                     row=4, col=1)\n",
        "    figure.add_trace(go.Scatter(x=xs, y=model_artm.score_tracker['SparsityThetaScoreBackground'].value),\n",
        "                     row=4, col=2)\n",
        "\n",
        "    figure.update_layout(height=900, width=1100, showlegend=False, font_size=10)\n",
        "    # figure.update_annotations(font_size=11)\n",
        "    figure.show()"
      ],
      "execution_count": null,
      "outputs": []
    },
    {
      "cell_type": "code",
      "metadata": {
        "colab": {
          "base_uri": "https://localhost:8080/",
          "height": 937
        },
        "id": "P2P40j4XuY0W",
        "outputId": "4e81f272-9349-4d69-82d0-7b1b059b38b2"
      },
      "source": [
        "draw_artm_metrics(model_artm)"
      ],
      "execution_count": null,
      "outputs": [
        {
          "output_type": "display_data",
          "data": {
            "text/html": [
              "<html>\n",
              "<head><meta charset=\"utf-8\" /></head>\n",
              "<body>\n",
              "    <div>\n",
              "            <script src=\"https://cdnjs.cloudflare.com/ajax/libs/mathjax/2.7.5/MathJax.js?config=TeX-AMS-MML_SVG\"></script><script type=\"text/javascript\">if (window.MathJax) {MathJax.Hub.Config({SVG: {font: \"STIX-Web\"}});}</script>\n",
              "                <script type=\"text/javascript\">window.PlotlyConfig = {MathJaxConfig: 'local'};</script>\n",
              "        <script src=\"https://cdn.plot.ly/plotly-latest.min.js\"></script>    \n",
              "            <div id=\"9fe4d842-f53e-4896-879e-0620f64497cb\" class=\"plotly-graph-div\" style=\"height:900px; width:1100px;\"></div>\n",
              "            <script type=\"text/javascript\">\n",
              "                \n",
              "                    window.PLOTLYENV=window.PLOTLYENV || {};\n",
              "                    \n",
              "                if (document.getElementById(\"9fe4d842-f53e-4896-879e-0620f64497cb\")) {\n",
              "                    Plotly.newPlot(\n",
              "                        '9fe4d842-f53e-4896-879e-0620f64497cb',\n",
              "                        [{\"type\": \"scatter\", \"x\": [0, 1, 2, 3, 4, 5, 6, 7, 8], \"xaxis\": \"x\", \"y\": [40578.94921875, 26296.171875, 22762.34375, 19090.841796875, 18706.58203125, 18671.177734375, 18662.087890625, 18664.8515625, 18660.26953125], \"yaxis\": \"y\"}, {\"type\": \"scatter\", \"x\": [0, 1, 2, 3, 4, 5, 6, 7, 8], \"xaxis\": \"x2\", \"y\": [0.01659669540822506, 0.04294026643037796, 0.04343129321932793, 0.044757064431905746, 0.044683411717414856, 0.04456065222620964, 0.044241487979888916, 0.04406962916254997, 0.043995972722768784], \"yaxis\": \"y2\"}, {\"type\": \"scatter\", \"x\": [0, 1, 2, 3, 4, 5, 6, 7, 8], \"xaxis\": \"x3\", \"y\": [0.5659804344177246, 0.6268021464347839, 0.6392146348953247, 0.6370370984077454, 0.6374285817146301, 0.6381158232688904, 0.6386702656745911, 0.6378505825996399, 0.6381978392601013], \"yaxis\": \"y3\"}, {\"type\": \"scatter\", \"x\": [0, 1, 2, 3, 4, 5, 6, 7, 8], \"xaxis\": \"x4\", \"y\": [0.37907424569129944, 0.9248324036598206, 0.9158169627189636, 0.9103679656982422, 0.913370668888092, 0.9144346117973328, 0.9170499444007874, 0.9187190532684326, 0.9188453555107117], \"yaxis\": \"y4\"}, {\"type\": \"scatter\", \"x\": [0, 1, 2, 3, 4, 5, 6, 7, 8], \"xaxis\": \"x5\", \"y\": [0.9840023517608643, 0.9936289191246033, 0.994937539100647, 0.995288610458374, 0.9954383373260498, 0.9955365657806396, 0.995610237121582, 0.9956421256065369, 0.9956765174865723], \"yaxis\": \"y5\"}, {\"type\": \"scatter\", \"x\": [0, 1, 2, 3, 4, 5, 6, 7, 8], \"xaxis\": \"x6\", \"y\": [0.0, 0.0, 0.0, 0.0, 0.0, 0.0, 0.0, 0.0, 0.0], \"yaxis\": \"y6\"}, {\"type\": \"scatter\", \"x\": [0, 1, 2, 3, 4, 5, 6, 7, 8], \"xaxis\": \"x7\", \"y\": [0.39800000190734863, 0.8330000042915344, 0.8709999918937683, 0.8830000162124634, 0.8859999775886536, 0.8889999985694885, 0.8920000195503235, 0.8930000066757202, 0.8930000066757202], \"yaxis\": \"y7\"}, {\"type\": \"scatter\", \"x\": [0, 1, 2, 3, 4, 5, 6, 7, 8], \"xaxis\": \"x8\", \"y\": [0.0, 0.0, 0.0, 0.0, 0.0, 0.0, 0.0, 0.0, 0.0], \"yaxis\": \"y8\"}],\n",
              "                        {\"annotations\": [{\"font\": {\"size\": 16}, \"showarrow\": false, \"text\": \"Perplexity\", \"x\": 0.225, \"xanchor\": \"center\", \"xref\": \"paper\", \"y\": 1.0, \"yanchor\": \"bottom\", \"yref\": \"paper\"}, {\"font\": {\"size\": 16}, \"showarrow\": false, \"text\": \"Background Tokens Ratio\", \"x\": 0.775, \"xanchor\": \"center\", \"xref\": \"paper\", \"y\": 1.0, \"yanchor\": \"bottom\", \"yref\": \"paper\"}, {\"font\": {\"size\": 16}, \"showarrow\": false, \"text\": \"Kernel Contrast\", \"x\": 0.225, \"xanchor\": \"center\", \"xref\": \"paper\", \"y\": 0.71875, \"yanchor\": \"bottom\", \"yref\": \"paper\"}, {\"font\": {\"size\": 16}, \"showarrow\": false, \"text\": \"Kernel Purity\", \"x\": 0.775, \"xanchor\": \"center\", \"xref\": \"paper\", \"y\": 0.71875, \"yanchor\": \"bottom\", \"yref\": \"paper\"}, {\"font\": {\"size\": 16}, \"showarrow\": false, \"text\": \"Sparsity Phi Score Subject\", \"x\": 0.225, \"xanchor\": \"center\", \"xref\": \"paper\", \"y\": 0.4375, \"yanchor\": \"bottom\", \"yref\": \"paper\"}, {\"font\": {\"size\": 16}, \"showarrow\": false, \"text\": \"Sparsity Phi Score Background\", \"x\": 0.775, \"xanchor\": \"center\", \"xref\": \"paper\", \"y\": 0.4375, \"yanchor\": \"bottom\", \"yref\": \"paper\"}, {\"font\": {\"size\": 16}, \"showarrow\": false, \"text\": \"Sparsity Theta Score Subject\", \"x\": 0.225, \"xanchor\": \"center\", \"xref\": \"paper\", \"y\": 0.15625, \"yanchor\": \"bottom\", \"yref\": \"paper\"}, {\"font\": {\"size\": 16}, \"showarrow\": false, \"text\": \"Sparsity Theta Score Background\", \"x\": 0.775, \"xanchor\": \"center\", \"xref\": \"paper\", \"y\": 0.15625, \"yanchor\": \"bottom\", \"yref\": \"paper\"}], \"font\": {\"size\": 10}, \"height\": 900, \"showlegend\": false, \"template\": {\"data\": {\"bar\": [{\"error_x\": {\"color\": \"#2a3f5f\"}, \"error_y\": {\"color\": \"#2a3f5f\"}, \"marker\": {\"line\": {\"color\": \"#E5ECF6\", \"width\": 0.5}}, \"type\": \"bar\"}], \"barpolar\": [{\"marker\": {\"line\": {\"color\": \"#E5ECF6\", \"width\": 0.5}}, \"type\": \"barpolar\"}], \"carpet\": [{\"aaxis\": {\"endlinecolor\": \"#2a3f5f\", \"gridcolor\": \"white\", \"linecolor\": \"white\", \"minorgridcolor\": \"white\", \"startlinecolor\": \"#2a3f5f\"}, \"baxis\": {\"endlinecolor\": \"#2a3f5f\", \"gridcolor\": \"white\", \"linecolor\": \"white\", \"minorgridcolor\": \"white\", \"startlinecolor\": \"#2a3f5f\"}, \"type\": \"carpet\"}], \"choropleth\": [{\"colorbar\": {\"outlinewidth\": 0, \"ticks\": \"\"}, \"type\": \"choropleth\"}], \"contour\": [{\"colorbar\": {\"outlinewidth\": 0, \"ticks\": \"\"}, \"colorscale\": [[0.0, \"#0d0887\"], [0.1111111111111111, \"#46039f\"], [0.2222222222222222, \"#7201a8\"], [0.3333333333333333, \"#9c179e\"], [0.4444444444444444, \"#bd3786\"], [0.5555555555555556, \"#d8576b\"], [0.6666666666666666, \"#ed7953\"], [0.7777777777777778, \"#fb9f3a\"], [0.8888888888888888, \"#fdca26\"], [1.0, \"#f0f921\"]], \"type\": \"contour\"}], \"contourcarpet\": [{\"colorbar\": {\"outlinewidth\": 0, \"ticks\": \"\"}, \"type\": \"contourcarpet\"}], \"heatmap\": [{\"colorbar\": {\"outlinewidth\": 0, \"ticks\": \"\"}, \"colorscale\": [[0.0, \"#0d0887\"], [0.1111111111111111, \"#46039f\"], [0.2222222222222222, \"#7201a8\"], [0.3333333333333333, \"#9c179e\"], [0.4444444444444444, \"#bd3786\"], [0.5555555555555556, \"#d8576b\"], [0.6666666666666666, \"#ed7953\"], [0.7777777777777778, \"#fb9f3a\"], [0.8888888888888888, \"#fdca26\"], [1.0, \"#f0f921\"]], \"type\": \"heatmap\"}], \"heatmapgl\": [{\"colorbar\": {\"outlinewidth\": 0, \"ticks\": \"\"}, \"colorscale\": [[0.0, \"#0d0887\"], [0.1111111111111111, \"#46039f\"], [0.2222222222222222, \"#7201a8\"], [0.3333333333333333, \"#9c179e\"], [0.4444444444444444, \"#bd3786\"], [0.5555555555555556, \"#d8576b\"], [0.6666666666666666, \"#ed7953\"], [0.7777777777777778, \"#fb9f3a\"], [0.8888888888888888, \"#fdca26\"], [1.0, \"#f0f921\"]], \"type\": \"heatmapgl\"}], \"histogram\": [{\"marker\": {\"colorbar\": {\"outlinewidth\": 0, \"ticks\": \"\"}}, \"type\": \"histogram\"}], \"histogram2d\": [{\"colorbar\": {\"outlinewidth\": 0, \"ticks\": \"\"}, \"colorscale\": [[0.0, \"#0d0887\"], [0.1111111111111111, \"#46039f\"], [0.2222222222222222, \"#7201a8\"], [0.3333333333333333, \"#9c179e\"], [0.4444444444444444, \"#bd3786\"], [0.5555555555555556, \"#d8576b\"], [0.6666666666666666, \"#ed7953\"], [0.7777777777777778, \"#fb9f3a\"], [0.8888888888888888, \"#fdca26\"], [1.0, \"#f0f921\"]], \"type\": \"histogram2d\"}], \"histogram2dcontour\": [{\"colorbar\": {\"outlinewidth\": 0, \"ticks\": \"\"}, \"colorscale\": [[0.0, \"#0d0887\"], [0.1111111111111111, \"#46039f\"], [0.2222222222222222, \"#7201a8\"], [0.3333333333333333, \"#9c179e\"], [0.4444444444444444, \"#bd3786\"], [0.5555555555555556, \"#d8576b\"], [0.6666666666666666, \"#ed7953\"], [0.7777777777777778, \"#fb9f3a\"], [0.8888888888888888, \"#fdca26\"], [1.0, \"#f0f921\"]], \"type\": \"histogram2dcontour\"}], \"mesh3d\": [{\"colorbar\": {\"outlinewidth\": 0, \"ticks\": \"\"}, \"type\": \"mesh3d\"}], \"parcoords\": [{\"line\": {\"colorbar\": {\"outlinewidth\": 0, \"ticks\": \"\"}}, \"type\": \"parcoords\"}], \"pie\": [{\"automargin\": true, \"type\": \"pie\"}], \"scatter\": [{\"marker\": {\"colorbar\": {\"outlinewidth\": 0, \"ticks\": \"\"}}, \"type\": \"scatter\"}], \"scatter3d\": [{\"line\": {\"colorbar\": {\"outlinewidth\": 0, \"ticks\": \"\"}}, \"marker\": {\"colorbar\": {\"outlinewidth\": 0, \"ticks\": \"\"}}, \"type\": \"scatter3d\"}], \"scattercarpet\": [{\"marker\": {\"colorbar\": {\"outlinewidth\": 0, \"ticks\": \"\"}}, \"type\": \"scattercarpet\"}], \"scattergeo\": [{\"marker\": {\"colorbar\": {\"outlinewidth\": 0, \"ticks\": \"\"}}, \"type\": \"scattergeo\"}], \"scattergl\": [{\"marker\": {\"colorbar\": {\"outlinewidth\": 0, \"ticks\": \"\"}}, \"type\": \"scattergl\"}], \"scattermapbox\": [{\"marker\": {\"colorbar\": {\"outlinewidth\": 0, \"ticks\": \"\"}}, \"type\": \"scattermapbox\"}], \"scatterpolar\": [{\"marker\": {\"colorbar\": {\"outlinewidth\": 0, \"ticks\": \"\"}}, \"type\": \"scatterpolar\"}], \"scatterpolargl\": [{\"marker\": {\"colorbar\": {\"outlinewidth\": 0, \"ticks\": \"\"}}, \"type\": \"scatterpolargl\"}], \"scatterternary\": [{\"marker\": {\"colorbar\": {\"outlinewidth\": 0, \"ticks\": \"\"}}, \"type\": \"scatterternary\"}], \"surface\": [{\"colorbar\": {\"outlinewidth\": 0, \"ticks\": \"\"}, \"colorscale\": [[0.0, \"#0d0887\"], [0.1111111111111111, \"#46039f\"], [0.2222222222222222, \"#7201a8\"], [0.3333333333333333, \"#9c179e\"], [0.4444444444444444, \"#bd3786\"], [0.5555555555555556, \"#d8576b\"], [0.6666666666666666, \"#ed7953\"], [0.7777777777777778, \"#fb9f3a\"], [0.8888888888888888, \"#fdca26\"], [1.0, \"#f0f921\"]], \"type\": \"surface\"}], \"table\": [{\"cells\": {\"fill\": {\"color\": \"#EBF0F8\"}, \"line\": {\"color\": \"white\"}}, \"header\": {\"fill\": {\"color\": \"#C8D4E3\"}, \"line\": {\"color\": \"white\"}}, \"type\": \"table\"}]}, \"layout\": {\"annotationdefaults\": {\"arrowcolor\": \"#2a3f5f\", \"arrowhead\": 0, \"arrowwidth\": 1}, \"coloraxis\": {\"colorbar\": {\"outlinewidth\": 0, \"ticks\": \"\"}}, \"colorscale\": {\"diverging\": [[0, \"#8e0152\"], [0.1, \"#c51b7d\"], [0.2, \"#de77ae\"], [0.3, \"#f1b6da\"], [0.4, \"#fde0ef\"], [0.5, \"#f7f7f7\"], [0.6, \"#e6f5d0\"], [0.7, \"#b8e186\"], [0.8, \"#7fbc41\"], [0.9, \"#4d9221\"], [1, \"#276419\"]], \"sequential\": [[0.0, \"#0d0887\"], [0.1111111111111111, \"#46039f\"], [0.2222222222222222, \"#7201a8\"], [0.3333333333333333, \"#9c179e\"], [0.4444444444444444, \"#bd3786\"], [0.5555555555555556, \"#d8576b\"], [0.6666666666666666, \"#ed7953\"], [0.7777777777777778, \"#fb9f3a\"], [0.8888888888888888, \"#fdca26\"], [1.0, \"#f0f921\"]], \"sequentialminus\": [[0.0, \"#0d0887\"], [0.1111111111111111, \"#46039f\"], [0.2222222222222222, \"#7201a8\"], [0.3333333333333333, \"#9c179e\"], [0.4444444444444444, \"#bd3786\"], [0.5555555555555556, \"#d8576b\"], [0.6666666666666666, \"#ed7953\"], [0.7777777777777778, \"#fb9f3a\"], [0.8888888888888888, \"#fdca26\"], [1.0, \"#f0f921\"]]}, \"colorway\": [\"#636efa\", \"#EF553B\", \"#00cc96\", \"#ab63fa\", \"#FFA15A\", \"#19d3f3\", \"#FF6692\", \"#B6E880\", \"#FF97FF\", \"#FECB52\"], \"font\": {\"color\": \"#2a3f5f\"}, \"geo\": {\"bgcolor\": \"white\", \"lakecolor\": \"white\", \"landcolor\": \"#E5ECF6\", \"showlakes\": true, \"showland\": true, \"subunitcolor\": \"white\"}, \"hoverlabel\": {\"align\": \"left\"}, \"hovermode\": \"closest\", \"mapbox\": {\"style\": \"light\"}, \"paper_bgcolor\": \"white\", \"plot_bgcolor\": \"#E5ECF6\", \"polar\": {\"angularaxis\": {\"gridcolor\": \"white\", \"linecolor\": \"white\", \"ticks\": \"\"}, \"bgcolor\": \"#E5ECF6\", \"radialaxis\": {\"gridcolor\": \"white\", \"linecolor\": \"white\", \"ticks\": \"\"}}, \"scene\": {\"xaxis\": {\"backgroundcolor\": \"#E5ECF6\", \"gridcolor\": \"white\", \"gridwidth\": 2, \"linecolor\": \"white\", \"showbackground\": true, \"ticks\": \"\", \"zerolinecolor\": \"white\"}, \"yaxis\": {\"backgroundcolor\": \"#E5ECF6\", \"gridcolor\": \"white\", \"gridwidth\": 2, \"linecolor\": \"white\", \"showbackground\": true, \"ticks\": \"\", \"zerolinecolor\": \"white\"}, \"zaxis\": {\"backgroundcolor\": \"#E5ECF6\", \"gridcolor\": \"white\", \"gridwidth\": 2, \"linecolor\": \"white\", \"showbackground\": true, \"ticks\": \"\", \"zerolinecolor\": \"white\"}}, \"shapedefaults\": {\"line\": {\"color\": \"#2a3f5f\"}}, \"ternary\": {\"aaxis\": {\"gridcolor\": \"white\", \"linecolor\": \"white\", \"ticks\": \"\"}, \"baxis\": {\"gridcolor\": \"white\", \"linecolor\": \"white\", \"ticks\": \"\"}, \"bgcolor\": \"#E5ECF6\", \"caxis\": {\"gridcolor\": \"white\", \"linecolor\": \"white\", \"ticks\": \"\"}}, \"title\": {\"x\": 0.05}, \"xaxis\": {\"automargin\": true, \"gridcolor\": \"white\", \"linecolor\": \"white\", \"ticks\": \"\", \"title\": {\"standoff\": 15}, \"zerolinecolor\": \"white\", \"zerolinewidth\": 2}, \"yaxis\": {\"automargin\": true, \"gridcolor\": \"white\", \"linecolor\": \"white\", \"ticks\": \"\", \"title\": {\"standoff\": 15}, \"zerolinecolor\": \"white\", \"zerolinewidth\": 2}}}, \"width\": 1100, \"xaxis\": {\"anchor\": \"y\", \"domain\": [0.0, 0.45]}, \"xaxis2\": {\"anchor\": \"y2\", \"domain\": [0.55, 1.0]}, \"xaxis3\": {\"anchor\": \"y3\", \"domain\": [0.0, 0.45]}, \"xaxis4\": {\"anchor\": \"y4\", \"domain\": [0.55, 1.0]}, \"xaxis5\": {\"anchor\": \"y5\", \"domain\": [0.0, 0.45]}, \"xaxis6\": {\"anchor\": \"y6\", \"domain\": [0.55, 1.0]}, \"xaxis7\": {\"anchor\": \"y7\", \"domain\": [0.0, 0.45]}, \"xaxis8\": {\"anchor\": \"y8\", \"domain\": [0.55, 1.0]}, \"yaxis\": {\"anchor\": \"x\", \"domain\": [0.84375, 1.0]}, \"yaxis2\": {\"anchor\": \"x2\", \"domain\": [0.84375, 1.0]}, \"yaxis3\": {\"anchor\": \"x3\", \"domain\": [0.5625, 0.71875]}, \"yaxis4\": {\"anchor\": \"x4\", \"domain\": [0.5625, 0.71875]}, \"yaxis5\": {\"anchor\": \"x5\", \"domain\": [0.28125, 0.4375]}, \"yaxis6\": {\"anchor\": \"x6\", \"domain\": [0.28125, 0.4375]}, \"yaxis7\": {\"anchor\": \"x7\", \"domain\": [0.0, 0.15625]}, \"yaxis8\": {\"anchor\": \"x8\", \"domain\": [0.0, 0.15625]}},\n",
              "                        {\"responsive\": true}\n",
              "                    ).then(function(){\n",
              "                            \n",
              "var gd = document.getElementById('9fe4d842-f53e-4896-879e-0620f64497cb');\n",
              "var x = new MutationObserver(function (mutations, observer) {{\n",
              "        var display = window.getComputedStyle(gd).display;\n",
              "        if (!display || display === 'none') {{\n",
              "            console.log([gd, 'removed!']);\n",
              "            Plotly.purge(gd);\n",
              "            observer.disconnect();\n",
              "        }}\n",
              "}});\n",
              "\n",
              "// Listen for the removal of the full notebook cells\n",
              "var notebookContainer = gd.closest('#notebook-container');\n",
              "if (notebookContainer) {{\n",
              "    x.observe(notebookContainer, {childList: true});\n",
              "}}\n",
              "\n",
              "// Listen for the clearing of the current output cell\n",
              "var outputEl = gd.closest('.output');\n",
              "if (outputEl) {{\n",
              "    x.observe(outputEl, {childList: true});\n",
              "}}\n",
              "\n",
              "                        })\n",
              "                };\n",
              "                \n",
              "            </script>\n",
              "        </div>\n",
              "</body>\n",
              "</html>"
            ]
          },
          "metadata": {}
        }
      ]
    },
    {
      "cell_type": "markdown",
      "metadata": {
        "id": "EkgtpuBG2n1i"
      },
      "source": [
        "Space documents"
      ]
    },
    {
      "cell_type": "code",
      "metadata": {
        "id": "IgeXrckE2huQ"
      },
      "source": [
        "path = '/content/drive/MyDrive/Colab Notebooks/Diploma/space/'\n",
        "#batch_vectorizer, texts = create_batches(space.sample(100).text.to_list(), (1, 3), path)\n",
        "batch_vectorizer, texts = load_batches(path)"
      ],
      "execution_count": null,
      "outputs": []
    },
    {
      "cell_type": "code",
      "metadata": {
        "id": "Vs3xNTS7_xot"
      },
      "source": [
        "subject_topics, background_topics = create_topic_names(10, 2)"
      ],
      "execution_count": null,
      "outputs": []
    },
    {
      "cell_type": "code",
      "metadata": {
        "id": "48fC600W_1wv"
      },
      "source": [
        "regularizers = [artm.SmoothSparsePhiRegularizer(name='SparsePhiSubject', topic_names=subject_topics, tau=-0.5),\n",
        "                artm.SmoothSparsePhiRegularizer(name='SparsePhiBackground', topic_names=background_topics, tau=2),\n",
        "                artm.SmoothSparseThetaRegularizer(name='SparseThetaSubject', topic_names=subject_topics, tau=-0.5),\n",
        "                artm.SmoothSparseThetaRegularizer(name='SparseThetaBackground', topic_names=background_topics, tau=0.2),\n",
        "                artm.DecorrelatorPhiRegularizer(name='DecorrelatorPhi', topic_names=subject_topics, tau=1000000.0)]"
      ],
      "execution_count": null,
      "outputs": []
    },
    {
      "cell_type": "code",
      "metadata": {
        "id": "QUucBNzj_3AT"
      },
      "source": [
        "scores = [artm.PerplexityScore(name='PerplexityScore', dictionary=batch_vectorizer.dictionary),\n",
        "          artm.SparsityPhiScore(name='SparsityPhiScoreSubject', topic_names=subject_topics),\n",
        "          artm.SparsityPhiScore(name='SparsityPhiScoreBackground', topic_names=background_topics),\n",
        "          artm.SparsityThetaScore(name='SparsityThetaScoreSubject', topic_names=subject_topics),\n",
        "          artm.SparsityThetaScore(name='SparsityThetaScoreBackground', topic_names=background_topics),\n",
        "          artm.TopicKernelScore(name='TopicKernelScore', probability_mass_threshold=0.3),\n",
        "          artm.BackgroundTokensRatioScore(name='BackgroundTokensRatioScore', delta_threshold=0.3),\n",
        "          artm.TopTokensScore(name='TopTokensScore', num_tokens=20)]"
      ],
      "execution_count": null,
      "outputs": []
    },
    {
      "cell_type": "code",
      "metadata": {
        "id": "FfUrI5tu_-p-"
      },
      "source": [
        "model_artm = fit_model(batch_vectorizer, 20, 10, scores, regularizers, subject_topics, background_topics) "
      ],
      "execution_count": null,
      "outputs": []
    },
    {
      "cell_type": "code",
      "metadata": {
        "id": "ZXW7VDTdAEx1"
      },
      "source": [
        "to_dataframe = model_artm.score_tracker['TopTokensScore'].last_tokens\n",
        "for key, value in to_dataframe.items():\n",
        "    to_dataframe[key] = to_pad(value, 20)"
      ],
      "execution_count": null,
      "outputs": []
    },
    {
      "cell_type": "code",
      "source": [
        "pd.DataFrame(to_dataframe)"
      ],
      "metadata": {
        "colab": {
          "base_uri": "https://localhost:8080/",
          "height": 758
        },
        "id": "UWVvyHWBYXG-",
        "outputId": "91b4eb7c-554d-435e-fcb1-acbbb20df16e"
      },
      "execution_count": null,
      "outputs": [
        {
          "output_type": "execute_result",
          "data": {
            "text/html": [
              "\n",
              "  <div id=\"df-db3ba29a-0e41-45ad-bf18-fbbd917f8f8b\">\n",
              "    <div class=\"colab-df-container\">\n",
              "      <div>\n",
              "<style scoped>\n",
              "    .dataframe tbody tr th:only-of-type {\n",
              "        vertical-align: middle;\n",
              "    }\n",
              "\n",
              "    .dataframe tbody tr th {\n",
              "        vertical-align: top;\n",
              "    }\n",
              "\n",
              "    .dataframe thead th {\n",
              "        text-align: right;\n",
              "    }\n",
              "</style>\n",
              "<table border=\"1\" class=\"dataframe\">\n",
              "  <thead>\n",
              "    <tr style=\"text-align: right;\">\n",
              "      <th></th>\n",
              "      <th>subject topic #1</th>\n",
              "      <th>subject topic #2</th>\n",
              "      <th>subject topic #3</th>\n",
              "      <th>subject topic #4</th>\n",
              "      <th>subject topic #5</th>\n",
              "      <th>subject topic #6</th>\n",
              "      <th>subject topic #7</th>\n",
              "      <th>subject topic #8</th>\n",
              "      <th>subject topic #9</th>\n",
              "      <th>subject topic #10</th>\n",
              "      <th>background topic #1</th>\n",
              "      <th>background topic #2</th>\n",
              "    </tr>\n",
              "  </thead>\n",
              "  <tbody>\n",
              "    <tr>\n",
              "      <th>0</th>\n",
              "      <td>allen_probe</td>\n",
              "      <td>нептун</td>\n",
              "      <td>сверхлёгкий_ракета</td>\n",
              "      <td>пулковский</td>\n",
              "      <td>вмз</td>\n",
              "      <td>сириуссат</td>\n",
              "      <td>глубина</td>\n",
              "      <td>отсек</td>\n",
              "      <td>пулковский_обсерватория</td>\n",
              "      <td>хвост</td>\n",
              "      <td>космический</td>\n",
              "      <td>звезда</td>\n",
              "    </tr>\n",
              "    <tr>\n",
              "      <th>1</th>\n",
              "      <td>allen</td>\n",
              "      <td>олимпиада</td>\n",
              "      <td>производство</td>\n",
              "      <td>пыль</td>\n",
              "      <td>протон</td>\n",
              "      <td>origin</td>\n",
              "      <td>bz</td>\n",
              "      <td>мкс</td>\n",
              "      <td>картина</td>\n",
              "      <td>договор</td>\n",
              "      <td>ракета</td>\n",
              "      <td>космический</td>\n",
              "    </tr>\n",
              "    <tr>\n",
              "      <th>2</th>\n",
              "      <td>van_allen</td>\n",
              "      <td>слияние</td>\n",
              "      <td>зондирование</td>\n",
              "      <td>пулково</td>\n",
              "      <td>лина_индастриал</td>\n",
              "      <td>космический_погода</td>\n",
              "      <td>атмосферный_вихрь</td>\n",
              "      <td>gateway</td>\n",
              "      <td>квартира</td>\n",
              "      <td>метеорит</td>\n",
              "      <td>компания</td>\n",
              "      <td>телескоп</td>\n",
              "    </tr>\n",
              "    <tr>\n",
              "      <th>3</th>\n",
              "      <td>стратосфера</td>\n",
              "      <td>technologies</td>\n",
              "      <td>дистанционный_зондирование</td>\n",
              "      <td>волна</td>\n",
              "      <td>лина</td>\n",
              "      <td>углерод</td>\n",
              "      <td>джинса</td>\n",
              "      <td>груз</td>\n",
              "      <td>определение</td>\n",
              "      <td>or</td>\n",
              "      <td>спутник</td>\n",
              "      <td>планета</td>\n",
              "    </tr>\n",
              "    <tr>\n",
              "      <th>4</th>\n",
              "      <td>защита</td>\n",
              "      <td>pi</td>\n",
              "      <td>разрабатывать</td>\n",
              "      <td>красный_смещение</td>\n",
              "      <td>сиппель</td>\n",
              "      <td>физика</td>\n",
              "      <td>формирование</td>\n",
              "      <td>пилотировать</td>\n",
              "      <td>антенна</td>\n",
              "      <td>харон</td>\n",
              "      <td>запуск</td>\n",
              "      <td>аппарат</td>\n",
              "    </tr>\n",
              "    <tr>\n",
              "      <th>5</th>\n",
              "      <td>посадочный</td>\n",
              "      <td>pi_mensae</td>\n",
              "      <td>канада</td>\n",
              "      <td>страна</td>\n",
              "      <td>нейтральный</td>\n",
              "      <td>спутник_сириуссат</td>\n",
              "      <td>внешний</td>\n",
              "      <td>bigelow</td>\n",
              "      <td>слабый</td>\n",
              "      <td>бенуа_февля</td>\n",
              "      <td>проект</td>\n",
              "      <td>обсерватория</td>\n",
              "    </tr>\n",
              "    <tr>\n",
              "      <th>6</th>\n",
              "      <td>операция</td>\n",
              "      <td>родительский_звезда</td>\n",
              "      <td>канадский</td>\n",
              "      <td>построить</td>\n",
              "      <td>гипотеза</td>\n",
              "      <td>соединение</td>\n",
              "      <td>пейзаж</td>\n",
              "      <td>воздух</td>\n",
              "      <td>поверхность_марс</td>\n",
              "      <td>индийский_космический_агентство</td>\n",
              "      <td>двигатель</td>\n",
              "      <td>наблюдение</td>\n",
              "    </tr>\n",
              "    <tr>\n",
              "      <th>7</th>\n",
              "      <td>искусственный</td>\n",
              "      <td>hd</td>\n",
              "      <td>услуга</td>\n",
              "      <td>erosita</td>\n",
              "      <td>завод</td>\n",
              "      <td>органический_соединение</td>\n",
              "      <td>формироваться</td>\n",
              "      <td>жилой_отсек</td>\n",
              "      <td>vlt</td>\n",
              "      <td>пиар</td>\n",
              "      <td>ступень</td>\n",
              "      <td>земля</td>\n",
              "    </tr>\n",
              "    <tr>\n",
              "      <th>8</th>\n",
              "      <td>пояс_ван</td>\n",
              "      <td>родительский</td>\n",
              "      <td>google</td>\n",
              "      <td>санкт</td>\n",
              "      <td>предприятие</td>\n",
              "      <td>доля</td>\n",
              "      <td>происхождение</td>\n",
              "      <td>захват</td>\n",
              "      <td>ночь</td>\n",
              "      <td>утверждать</td>\n",
              "      <td>новый</td>\n",
              "      <td>научный</td>\n",
              "    </tr>\n",
              "    <tr>\n",
              "      <th>9</th>\n",
              "      <td>ван</td>\n",
              "      <td>центральный</td>\n",
              "      <td>maxar_technologies</td>\n",
              "      <td>город</td>\n",
              "      <td>ионизовать</td>\n",
              "      <td>большой_взрыв</td>\n",
              "      <td>спутник_юпитер</td>\n",
              "      <td>space</td>\n",
              "      <td>выполнять</td>\n",
              "      <td>gault</td>\n",
              "      <td>звезда</td>\n",
              "      <td>система</td>\n",
              "    </tr>\n",
              "    <tr>\n",
              "      <th>10</th>\n",
              "      <td>живой</td>\n",
              "      <td>верхний</td>\n",
              "      <td>ракетный_двигатель</td>\n",
              "      <td>задание</td>\n",
              "      <td>частота</td>\n",
              "      <td>мфть</td>\n",
              "      <td>твиттер</td>\n",
              "      <td>возвращать</td>\n",
              "      <td>астрофотография</td>\n",
              "      <td>antrix</td>\n",
              "      <td>аппарат</td>\n",
              "      <td>большой</td>\n",
              "    </tr>\n",
              "    <tr>\n",
              "      <th>11</th>\n",
              "      <td>выжить</td>\n",
              "      <td>гагарин</td>\n",
              "      <td>характеристика</td>\n",
              "      <td>население</td>\n",
              "      <td>склон</td>\n",
              "      <td>аист</td>\n",
              "      <td>сатурн</td>\n",
              "      <td>экипаж</td>\n",
              "      <td>разместить</td>\n",
              "      <td>нараян</td>\n",
              "      <td>должный</td>\n",
              "      <td>nasa</td>\n",
              "    </tr>\n",
              "    <tr>\n",
              "      <th>12</th>\n",
              "      <td>февля</td>\n",
              "      <td>школьник</td>\n",
              "      <td>реализация</td>\n",
              "      <td>скопление_галактика</td>\n",
              "      <td>поглощение</td>\n",
              "      <td>высота_километр</td>\n",
              "      <td>поверхность_астероид</td>\n",
              "      <td>deep</td>\n",
              "      <td>рука</td>\n",
              "      <td>плутон_харон</td>\n",
              "      <td>луна</td>\n",
              "      <td>поверхность</td>\n",
              "    </tr>\n",
              "    <tr>\n",
              "      <th>13</th>\n",
              "      <td>район</td>\n",
              "      <td>военный</td>\n",
              "      <td>be</td>\n",
              "      <td>санкт_петербург</td>\n",
              "      <td>многоразовый</td>\n",
              "      <td>скорость</td>\n",
              "      <td>планетный_система</td>\n",
              "      <td>deep_space</td>\n",
              "      <td>робинсон</td>\n",
              "      <td>дальнейший</td>\n",
              "      <td>программа</td>\n",
              "      <td>спутник</td>\n",
              "    </tr>\n",
              "    <tr>\n",
              "      <th>14</th>\n",
              "      <td>голубой</td>\n",
              "      <td>совершать</td>\n",
              "      <td>digitalglobe</td>\n",
              "      <td>петербург</td>\n",
              "      <td>отдельный</td>\n",
              "      <td>стил</td>\n",
              "      <td>планетный</td>\n",
              "      <td>deep_space_gateway</td>\n",
              "      <td>защитный</td>\n",
              "      <td>телеграмма</td>\n",
              "      <td>teamindus</td>\n",
              "      <td>учёный</td>\n",
              "    </tr>\n",
              "    <tr>\n",
              "      <th>15</th>\n",
              "      <td>контролировать</td>\n",
              "      <td>газета</td>\n",
              "      <td>тонна</td>\n",
              "      <td>научный_сотрудник</td>\n",
              "      <td>германия</td>\n",
              "      <td>органический_углерод</td>\n",
              "      <td>удар</td>\n",
              "      <td>space_gateway</td>\n",
              "      <td>james_webb</td>\n",
              "      <td>spacelive</td>\n",
              "      <td>носитель</td>\n",
              "      <td>данные</td>\n",
              "    </tr>\n",
              "    <tr>\n",
              "      <th>16</th>\n",
              "      <td>микроорганизм</td>\n",
              "      <td>телескоп_hubble</td>\n",
              "      <td>низкий_околоземный</td>\n",
              "      <td>двойной</td>\n",
              "      <td>ионизация</td>\n",
              "      <td>марсианский_метеорит</td>\n",
              "      <td>настолько</td>\n",
              "      <td>окололунный</td>\n",
              "      <td>совет</td>\n",
              "      <td>ледник_пайн_айленд</td>\n",
              "      <td>орбита</td>\n",
              "      <td>проект</td>\n",
              "    </tr>\n",
              "    <tr>\n",
              "      <th>17</th>\n",
              "      <td>nova</td>\n",
              "      <td>открывать</td>\n",
              "      <td>google_lunar</td>\n",
              "      <td>гелий</td>\n",
              "      <td>миллион_рубль</td>\n",
              "      <td>ткачёв</td>\n",
              "      <td>свидетельство</td>\n",
              "      <td>концепция</td>\n",
              "      <td>игра</td>\n",
              "      <td>ледник_пайн</td>\n",
              "      <td>корабль</td>\n",
              "      <td>космос</td>\n",
              "    </tr>\n",
              "    <tr>\n",
              "      <th>18</th>\n",
              "      <td>утечка</td>\n",
              "      <td>ключ</td>\n",
              "      <td>огневой_испытание</td>\n",
              "      <td>реликтовый_излучение</td>\n",
              "      <td>особенность</td>\n",
              "      <td>ddm</td>\n",
              "      <td>конец_тёмный_век</td>\n",
              "      <td>конструкция</td>\n",
              "      <td>академия_наука</td>\n",
              "      <td>пайн</td>\n",
              "      <td>получить</td>\n",
              "      <td>орбита</td>\n",
              "    </tr>\n",
              "    <tr>\n",
              "      <th>19</th>\n",
              "      <td>отработать</td>\n",
              "      <td>диаметр</td>\n",
              "      <td>огневой</td>\n",
              "      <td>уникальный</td>\n",
              "      <td>проверка</td>\n",
              "      <td>кислород</td>\n",
              "      <td>планета_солнечный</td>\n",
              "      <td>crater</td>\n",
              "      <td>техника</td>\n",
              "      <td>электронный</td>\n",
              "      <td>пуск</td>\n",
              "      <td>работа</td>\n",
              "    </tr>\n",
              "  </tbody>\n",
              "</table>\n",
              "</div>\n",
              "      <button class=\"colab-df-convert\" onclick=\"convertToInteractive('df-db3ba29a-0e41-45ad-bf18-fbbd917f8f8b')\"\n",
              "              title=\"Convert this dataframe to an interactive table.\"\n",
              "              style=\"display:none;\">\n",
              "        \n",
              "  <svg xmlns=\"http://www.w3.org/2000/svg\" height=\"24px\"viewBox=\"0 0 24 24\"\n",
              "       width=\"24px\">\n",
              "    <path d=\"M0 0h24v24H0V0z\" fill=\"none\"/>\n",
              "    <path d=\"M18.56 5.44l.94 2.06.94-2.06 2.06-.94-2.06-.94-.94-2.06-.94 2.06-2.06.94zm-11 1L8.5 8.5l.94-2.06 2.06-.94-2.06-.94L8.5 2.5l-.94 2.06-2.06.94zm10 10l.94 2.06.94-2.06 2.06-.94-2.06-.94-.94-2.06-.94 2.06-2.06.94z\"/><path d=\"M17.41 7.96l-1.37-1.37c-.4-.4-.92-.59-1.43-.59-.52 0-1.04.2-1.43.59L10.3 9.45l-7.72 7.72c-.78.78-.78 2.05 0 2.83L4 21.41c.39.39.9.59 1.41.59.51 0 1.02-.2 1.41-.59l7.78-7.78 2.81-2.81c.8-.78.8-2.07 0-2.86zM5.41 20L4 18.59l7.72-7.72 1.47 1.35L5.41 20z\"/>\n",
              "  </svg>\n",
              "      </button>\n",
              "      \n",
              "  <style>\n",
              "    .colab-df-container {\n",
              "      display:flex;\n",
              "      flex-wrap:wrap;\n",
              "      gap: 12px;\n",
              "    }\n",
              "\n",
              "    .colab-df-convert {\n",
              "      background-color: #E8F0FE;\n",
              "      border: none;\n",
              "      border-radius: 50%;\n",
              "      cursor: pointer;\n",
              "      display: none;\n",
              "      fill: #1967D2;\n",
              "      height: 32px;\n",
              "      padding: 0 0 0 0;\n",
              "      width: 32px;\n",
              "    }\n",
              "\n",
              "    .colab-df-convert:hover {\n",
              "      background-color: #E2EBFA;\n",
              "      box-shadow: 0px 1px 2px rgba(60, 64, 67, 0.3), 0px 1px 3px 1px rgba(60, 64, 67, 0.15);\n",
              "      fill: #174EA6;\n",
              "    }\n",
              "\n",
              "    [theme=dark] .colab-df-convert {\n",
              "      background-color: #3B4455;\n",
              "      fill: #D2E3FC;\n",
              "    }\n",
              "\n",
              "    [theme=dark] .colab-df-convert:hover {\n",
              "      background-color: #434B5C;\n",
              "      box-shadow: 0px 1px 3px 1px rgba(0, 0, 0, 0.15);\n",
              "      filter: drop-shadow(0px 1px 2px rgba(0, 0, 0, 0.3));\n",
              "      fill: #FFFFFF;\n",
              "    }\n",
              "  </style>\n",
              "\n",
              "      <script>\n",
              "        const buttonEl =\n",
              "          document.querySelector('#df-db3ba29a-0e41-45ad-bf18-fbbd917f8f8b button.colab-df-convert');\n",
              "        buttonEl.style.display =\n",
              "          google.colab.kernel.accessAllowed ? 'block' : 'none';\n",
              "\n",
              "        async function convertToInteractive(key) {\n",
              "          const element = document.querySelector('#df-db3ba29a-0e41-45ad-bf18-fbbd917f8f8b');\n",
              "          const dataTable =\n",
              "            await google.colab.kernel.invokeFunction('convertToInteractive',\n",
              "                                                     [key], {});\n",
              "          if (!dataTable) return;\n",
              "\n",
              "          const docLinkHtml = 'Like what you see? Visit the ' +\n",
              "            '<a target=\"_blank\" href=https://colab.research.google.com/notebooks/data_table.ipynb>data table notebook</a>'\n",
              "            + ' to learn more about interactive tables.';\n",
              "          element.innerHTML = '';\n",
              "          dataTable['output_type'] = 'display_data';\n",
              "          await google.colab.output.renderOutput(dataTable, element);\n",
              "          const docLink = document.createElement('div');\n",
              "          docLink.innerHTML = docLinkHtml;\n",
              "          element.appendChild(docLink);\n",
              "        }\n",
              "      </script>\n",
              "    </div>\n",
              "  </div>\n",
              "  "
            ],
            "text/plain": [
              "   subject topic #1  ... background topic #2\n",
              "0       allen_probe  ...              звезда\n",
              "1             allen  ...         космический\n",
              "2         van_allen  ...            телескоп\n",
              "3       стратосфера  ...             планета\n",
              "4            защита  ...             аппарат\n",
              "5        посадочный  ...        обсерватория\n",
              "6          операция  ...          наблюдение\n",
              "7     искусственный  ...               земля\n",
              "8          пояс_ван  ...             научный\n",
              "9               ван  ...             система\n",
              "10            живой  ...             большой\n",
              "11           выжить  ...                nasa\n",
              "12            февля  ...         поверхность\n",
              "13            район  ...             спутник\n",
              "14          голубой  ...              учёный\n",
              "15   контролировать  ...              данные\n",
              "16    микроорганизм  ...              проект\n",
              "17             nova  ...              космос\n",
              "18           утечка  ...              орбита\n",
              "19       отработать  ...              работа\n",
              "\n",
              "[20 rows x 12 columns]"
            ]
          },
          "metadata": {},
          "execution_count": 125
        }
      ]
    },
    {
      "cell_type": "code",
      "metadata": {
        "id": "8DeYU8ikNq1k"
      },
      "source": [
        "save_topics(model_artm, path)"
      ],
      "execution_count": null,
      "outputs": []
    },
    {
      "cell_type": "code",
      "metadata": {
        "id": "apPNeCUPApZP"
      },
      "source": [
        "topics = [model_artm.score_tracker['TopTokensScore'].last_tokens[topic_name] for topic_name in model_artm.topic_names]\n",
        "topics = topics[:10]"
      ],
      "execution_count": null,
      "outputs": []
    },
    {
      "cell_type": "code",
      "source": [
        "topics"
      ],
      "metadata": {
        "id": "oqQXSAoSYQCZ"
      },
      "execution_count": null,
      "outputs": []
    },
    {
      "cell_type": "code",
      "metadata": {
        "colab": {
          "base_uri": "https://localhost:8080/"
        },
        "id": "0PYxezeoAwNn",
        "outputId": "060a75ae-996e-4e9c-a3dc-2953cc244808"
      },
      "source": [
        "print_measures(model_artm, texts, topics)"
      ],
      "execution_count": null,
      "outputs": [
        {
          "output_type": "stream",
          "name": "stdout",
          "text": [
            "Coherence: -12.838331997607327\n",
            "PMI: -10.186839878080097\n",
            "NPMI: -0.3270208952469375\n",
            "Topic Significance - Uniform Distribution Over Words: 6.5964914883989225\n",
            "Topic Significance - Vacuous Semantic Distribution: 11.958256721496582\n",
            "Topic Significance - Background Distribution: 0.5793891739640598\n",
            "SwitchP mean: 0.20729682415656586\n",
            "Sparsity Phi Score Subject: 0.998\n",
            "Sparsity Theta Score Subject: 0.817\n",
            "Kernel contrast: 0.655\n",
            "Kernel purity: 0.991\n",
            "Perplexity: 25376.715\n",
            "Background Tokens Ratio Score: 0.018\n"
          ]
        }
      ]
    },
    {
      "cell_type": "code",
      "metadata": {
        "colab": {
          "base_uri": "https://localhost:8080/",
          "height": 937
        },
        "id": "lhPHDsPfDpen",
        "outputId": "c851d282-2162-4f90-d263-2b505d84b300"
      },
      "source": [
        "draw_artm_metrics(model_artm)"
      ],
      "execution_count": null,
      "outputs": [
        {
          "output_type": "display_data",
          "data": {
            "text/html": [
              "<html>\n",
              "<head><meta charset=\"utf-8\" /></head>\n",
              "<body>\n",
              "    <div>\n",
              "            <script src=\"https://cdnjs.cloudflare.com/ajax/libs/mathjax/2.7.5/MathJax.js?config=TeX-AMS-MML_SVG\"></script><script type=\"text/javascript\">if (window.MathJax) {MathJax.Hub.Config({SVG: {font: \"STIX-Web\"}});}</script>\n",
              "                <script type=\"text/javascript\">window.PlotlyConfig = {MathJaxConfig: 'local'};</script>\n",
              "        <script src=\"https://cdn.plot.ly/plotly-latest.min.js\"></script>    \n",
              "            <div id=\"0c5a36bd-ca43-44f8-a6d5-7e424a34a1aa\" class=\"plotly-graph-div\" style=\"height:900px; width:1100px;\"></div>\n",
              "            <script type=\"text/javascript\">\n",
              "                \n",
              "                    window.PLOTLYENV=window.PLOTLYENV || {};\n",
              "                    \n",
              "                if (document.getElementById(\"0c5a36bd-ca43-44f8-a6d5-7e424a34a1aa\")) {\n",
              "                    Plotly.newPlot(\n",
              "                        '0c5a36bd-ca43-44f8-a6d5-7e424a34a1aa',\n",
              "                        [{\"type\": \"scatter\", \"x\": [0, 1, 2, 3, 4, 5, 6, 7, 8, 9], \"xaxis\": \"x\", \"y\": [43798.51171875, 25157.892578125, 21778.013671875, 16430.177734375, 16154.236328125, 16129.162109375, 16119.759765625, 16116.421875, 16115.0185546875, 16113.73828125], \"yaxis\": \"y\"}, {\"type\": \"scatter\", \"x\": [0, 1, 2, 3, 4, 5, 6, 7, 8, 9], \"xaxis\": \"x2\", \"y\": [0.01660333015024662, 0.07159337401390076, 0.44901373982429504, 0.4927162528038025, 0.5039359331130981, 0.5040264129638672, 0.5041395425796509, 0.5053157806396484, 0.5052931308746338, 0.5052931308746338], \"yaxis\": \"y2\"}, {\"type\": \"scatter\", \"x\": [0, 1, 2, 3, 4, 5, 6, 7, 8, 9], \"xaxis\": \"x3\", \"y\": [0.4890405833721161, 0.7430198192596436, 0.7115204334259033, 0.7364864945411682, 0.7448651790618896, 0.7477626800537109, 0.7488688826560974, 0.7492491602897644, 0.7494388222694397, 0.7494309544563293], \"yaxis\": \"y3\"}, {\"type\": \"scatter\", \"x\": [0, 1, 2, 3, 4, 5, 6, 7, 8, 9], \"xaxis\": \"x4\", \"y\": [0.20832599699497223, 0.9624150395393372, 0.9539458155632019, 0.9656805992126465, 0.9693422317504883, 0.9720005989074707, 0.9729536175727844, 0.9729850888252258, 0.9723300933837891, 0.9724332690238953], \"yaxis\": \"y4\"}, {\"type\": \"scatter\", \"x\": [0, 1, 2, 3, 4, 5, 6, 7, 8, 9], \"xaxis\": \"x5\", \"y\": [0.9514567255973816, 0.9914698600769043, 0.9930849671363831, 0.993336021900177, 0.9934378266334534, 0.9935147762298584, 0.9935486912727356, 0.993569016456604, 0.9935735464096069, 0.9935780763626099], \"yaxis\": \"y5\"}, {\"type\": \"scatter\", \"x\": [0, 1, 2, 3, 4, 5, 6, 7, 8, 9], \"xaxis\": \"x6\", \"y\": [0.0, 0.0, 0.0, 0.0, 0.0, 0.0, 0.0, 0.0, 0.0, 0.0], \"yaxis\": \"y6\"}, {\"type\": \"scatter\", \"x\": [0, 1, 2, 3, 4, 5, 6, 7, 8, 9], \"xaxis\": \"x7\", \"y\": [0.007000000216066837, 0.6809999942779541, 0.8880000114440918, 0.902999997138977, 0.9039999842643738, 0.906000018119812, 0.9070000052452087, 0.9070000052452087, 0.9070000052452087, 0.9079999923706055], \"yaxis\": \"y7\"}, {\"type\": \"scatter\", \"x\": [0, 1, 2, 3, 4, 5, 6, 7, 8, 9], \"xaxis\": \"x8\", \"y\": [0.0, 0.0, 0.0, 0.0, 0.0, 0.0, 0.0, 0.0, 0.0, 0.0], \"yaxis\": \"y8\"}],\n",
              "                        {\"annotations\": [{\"font\": {\"size\": 16}, \"showarrow\": false, \"text\": \"Perplexity\", \"x\": 0.225, \"xanchor\": \"center\", \"xref\": \"paper\", \"y\": 1.0, \"yanchor\": \"bottom\", \"yref\": \"paper\"}, {\"font\": {\"size\": 16}, \"showarrow\": false, \"text\": \"Background Tokens Ratio\", \"x\": 0.775, \"xanchor\": \"center\", \"xref\": \"paper\", \"y\": 1.0, \"yanchor\": \"bottom\", \"yref\": \"paper\"}, {\"font\": {\"size\": 16}, \"showarrow\": false, \"text\": \"Kernel Contrast\", \"x\": 0.225, \"xanchor\": \"center\", \"xref\": \"paper\", \"y\": 0.71875, \"yanchor\": \"bottom\", \"yref\": \"paper\"}, {\"font\": {\"size\": 16}, \"showarrow\": false, \"text\": \"Kernel Purity\", \"x\": 0.775, \"xanchor\": \"center\", \"xref\": \"paper\", \"y\": 0.71875, \"yanchor\": \"bottom\", \"yref\": \"paper\"}, {\"font\": {\"size\": 16}, \"showarrow\": false, \"text\": \"Sparsity Phi Score Subject\", \"x\": 0.225, \"xanchor\": \"center\", \"xref\": \"paper\", \"y\": 0.4375, \"yanchor\": \"bottom\", \"yref\": \"paper\"}, {\"font\": {\"size\": 16}, \"showarrow\": false, \"text\": \"Sparsity Phi Score Background\", \"x\": 0.775, \"xanchor\": \"center\", \"xref\": \"paper\", \"y\": 0.4375, \"yanchor\": \"bottom\", \"yref\": \"paper\"}, {\"font\": {\"size\": 16}, \"showarrow\": false, \"text\": \"Sparsity Theta Score Subject\", \"x\": 0.225, \"xanchor\": \"center\", \"xref\": \"paper\", \"y\": 0.15625, \"yanchor\": \"bottom\", \"yref\": \"paper\"}, {\"font\": {\"size\": 16}, \"showarrow\": false, \"text\": \"Sparsity Theta Score Background\", \"x\": 0.775, \"xanchor\": \"center\", \"xref\": \"paper\", \"y\": 0.15625, \"yanchor\": \"bottom\", \"yref\": \"paper\"}], \"font\": {\"size\": 10}, \"height\": 900, \"showlegend\": false, \"template\": {\"data\": {\"bar\": [{\"error_x\": {\"color\": \"#2a3f5f\"}, \"error_y\": {\"color\": \"#2a3f5f\"}, \"marker\": {\"line\": {\"color\": \"#E5ECF6\", \"width\": 0.5}}, \"type\": \"bar\"}], \"barpolar\": [{\"marker\": {\"line\": {\"color\": \"#E5ECF6\", \"width\": 0.5}}, \"type\": \"barpolar\"}], \"carpet\": [{\"aaxis\": {\"endlinecolor\": \"#2a3f5f\", \"gridcolor\": \"white\", \"linecolor\": \"white\", \"minorgridcolor\": \"white\", \"startlinecolor\": \"#2a3f5f\"}, \"baxis\": {\"endlinecolor\": \"#2a3f5f\", \"gridcolor\": \"white\", \"linecolor\": \"white\", \"minorgridcolor\": \"white\", \"startlinecolor\": \"#2a3f5f\"}, \"type\": \"carpet\"}], \"choropleth\": [{\"colorbar\": {\"outlinewidth\": 0, \"ticks\": \"\"}, \"type\": \"choropleth\"}], \"contour\": [{\"colorbar\": {\"outlinewidth\": 0, \"ticks\": \"\"}, \"colorscale\": [[0.0, \"#0d0887\"], [0.1111111111111111, \"#46039f\"], [0.2222222222222222, \"#7201a8\"], [0.3333333333333333, \"#9c179e\"], [0.4444444444444444, \"#bd3786\"], [0.5555555555555556, \"#d8576b\"], [0.6666666666666666, \"#ed7953\"], [0.7777777777777778, \"#fb9f3a\"], [0.8888888888888888, \"#fdca26\"], [1.0, \"#f0f921\"]], \"type\": \"contour\"}], \"contourcarpet\": [{\"colorbar\": {\"outlinewidth\": 0, \"ticks\": \"\"}, \"type\": \"contourcarpet\"}], \"heatmap\": [{\"colorbar\": {\"outlinewidth\": 0, \"ticks\": \"\"}, \"colorscale\": [[0.0, \"#0d0887\"], [0.1111111111111111, \"#46039f\"], [0.2222222222222222, \"#7201a8\"], [0.3333333333333333, \"#9c179e\"], [0.4444444444444444, \"#bd3786\"], [0.5555555555555556, \"#d8576b\"], [0.6666666666666666, \"#ed7953\"], [0.7777777777777778, \"#fb9f3a\"], [0.8888888888888888, \"#fdca26\"], [1.0, \"#f0f921\"]], \"type\": \"heatmap\"}], \"heatmapgl\": [{\"colorbar\": {\"outlinewidth\": 0, \"ticks\": \"\"}, \"colorscale\": [[0.0, \"#0d0887\"], [0.1111111111111111, \"#46039f\"], [0.2222222222222222, \"#7201a8\"], [0.3333333333333333, \"#9c179e\"], [0.4444444444444444, \"#bd3786\"], [0.5555555555555556, \"#d8576b\"], [0.6666666666666666, \"#ed7953\"], [0.7777777777777778, \"#fb9f3a\"], [0.8888888888888888, \"#fdca26\"], [1.0, \"#f0f921\"]], \"type\": \"heatmapgl\"}], \"histogram\": [{\"marker\": {\"colorbar\": {\"outlinewidth\": 0, \"ticks\": \"\"}}, \"type\": \"histogram\"}], \"histogram2d\": [{\"colorbar\": {\"outlinewidth\": 0, \"ticks\": \"\"}, \"colorscale\": [[0.0, \"#0d0887\"], [0.1111111111111111, \"#46039f\"], [0.2222222222222222, \"#7201a8\"], [0.3333333333333333, \"#9c179e\"], [0.4444444444444444, \"#bd3786\"], [0.5555555555555556, \"#d8576b\"], [0.6666666666666666, \"#ed7953\"], [0.7777777777777778, \"#fb9f3a\"], [0.8888888888888888, \"#fdca26\"], [1.0, \"#f0f921\"]], \"type\": \"histogram2d\"}], \"histogram2dcontour\": [{\"colorbar\": {\"outlinewidth\": 0, \"ticks\": \"\"}, \"colorscale\": [[0.0, \"#0d0887\"], [0.1111111111111111, \"#46039f\"], [0.2222222222222222, \"#7201a8\"], [0.3333333333333333, \"#9c179e\"], [0.4444444444444444, \"#bd3786\"], [0.5555555555555556, \"#d8576b\"], [0.6666666666666666, \"#ed7953\"], [0.7777777777777778, \"#fb9f3a\"], [0.8888888888888888, \"#fdca26\"], [1.0, \"#f0f921\"]], \"type\": \"histogram2dcontour\"}], \"mesh3d\": [{\"colorbar\": {\"outlinewidth\": 0, \"ticks\": \"\"}, \"type\": \"mesh3d\"}], \"parcoords\": [{\"line\": {\"colorbar\": {\"outlinewidth\": 0, \"ticks\": \"\"}}, \"type\": \"parcoords\"}], \"pie\": [{\"automargin\": true, \"type\": \"pie\"}], \"scatter\": [{\"marker\": {\"colorbar\": {\"outlinewidth\": 0, \"ticks\": \"\"}}, \"type\": \"scatter\"}], \"scatter3d\": [{\"line\": {\"colorbar\": {\"outlinewidth\": 0, \"ticks\": \"\"}}, \"marker\": {\"colorbar\": {\"outlinewidth\": 0, \"ticks\": \"\"}}, \"type\": \"scatter3d\"}], \"scattercarpet\": [{\"marker\": {\"colorbar\": {\"outlinewidth\": 0, \"ticks\": \"\"}}, \"type\": \"scattercarpet\"}], \"scattergeo\": [{\"marker\": {\"colorbar\": {\"outlinewidth\": 0, \"ticks\": \"\"}}, \"type\": \"scattergeo\"}], \"scattergl\": [{\"marker\": {\"colorbar\": {\"outlinewidth\": 0, \"ticks\": \"\"}}, \"type\": \"scattergl\"}], \"scattermapbox\": [{\"marker\": {\"colorbar\": {\"outlinewidth\": 0, \"ticks\": \"\"}}, \"type\": \"scattermapbox\"}], \"scatterpolar\": [{\"marker\": {\"colorbar\": {\"outlinewidth\": 0, \"ticks\": \"\"}}, \"type\": \"scatterpolar\"}], \"scatterpolargl\": [{\"marker\": {\"colorbar\": {\"outlinewidth\": 0, \"ticks\": \"\"}}, \"type\": \"scatterpolargl\"}], \"scatterternary\": [{\"marker\": {\"colorbar\": {\"outlinewidth\": 0, \"ticks\": \"\"}}, \"type\": \"scatterternary\"}], \"surface\": [{\"colorbar\": {\"outlinewidth\": 0, \"ticks\": \"\"}, \"colorscale\": [[0.0, \"#0d0887\"], [0.1111111111111111, \"#46039f\"], [0.2222222222222222, \"#7201a8\"], [0.3333333333333333, \"#9c179e\"], [0.4444444444444444, \"#bd3786\"], [0.5555555555555556, \"#d8576b\"], [0.6666666666666666, \"#ed7953\"], [0.7777777777777778, \"#fb9f3a\"], [0.8888888888888888, \"#fdca26\"], [1.0, \"#f0f921\"]], \"type\": \"surface\"}], \"table\": [{\"cells\": {\"fill\": {\"color\": \"#EBF0F8\"}, \"line\": {\"color\": \"white\"}}, \"header\": {\"fill\": {\"color\": \"#C8D4E3\"}, \"line\": {\"color\": \"white\"}}, \"type\": \"table\"}]}, \"layout\": {\"annotationdefaults\": {\"arrowcolor\": \"#2a3f5f\", \"arrowhead\": 0, \"arrowwidth\": 1}, \"coloraxis\": {\"colorbar\": {\"outlinewidth\": 0, \"ticks\": \"\"}}, \"colorscale\": {\"diverging\": [[0, \"#8e0152\"], [0.1, \"#c51b7d\"], [0.2, \"#de77ae\"], [0.3, \"#f1b6da\"], [0.4, \"#fde0ef\"], [0.5, \"#f7f7f7\"], [0.6, \"#e6f5d0\"], [0.7, \"#b8e186\"], [0.8, \"#7fbc41\"], [0.9, \"#4d9221\"], [1, \"#276419\"]], \"sequential\": [[0.0, \"#0d0887\"], [0.1111111111111111, \"#46039f\"], [0.2222222222222222, \"#7201a8\"], [0.3333333333333333, \"#9c179e\"], [0.4444444444444444, \"#bd3786\"], [0.5555555555555556, \"#d8576b\"], [0.6666666666666666, \"#ed7953\"], [0.7777777777777778, \"#fb9f3a\"], [0.8888888888888888, \"#fdca26\"], [1.0, \"#f0f921\"]], \"sequentialminus\": [[0.0, \"#0d0887\"], [0.1111111111111111, \"#46039f\"], [0.2222222222222222, \"#7201a8\"], [0.3333333333333333, \"#9c179e\"], [0.4444444444444444, \"#bd3786\"], [0.5555555555555556, \"#d8576b\"], [0.6666666666666666, \"#ed7953\"], [0.7777777777777778, \"#fb9f3a\"], [0.8888888888888888, \"#fdca26\"], [1.0, \"#f0f921\"]]}, \"colorway\": [\"#636efa\", \"#EF553B\", \"#00cc96\", \"#ab63fa\", \"#FFA15A\", \"#19d3f3\", \"#FF6692\", \"#B6E880\", \"#FF97FF\", \"#FECB52\"], \"font\": {\"color\": \"#2a3f5f\"}, \"geo\": {\"bgcolor\": \"white\", \"lakecolor\": \"white\", \"landcolor\": \"#E5ECF6\", \"showlakes\": true, \"showland\": true, \"subunitcolor\": \"white\"}, \"hoverlabel\": {\"align\": \"left\"}, \"hovermode\": \"closest\", \"mapbox\": {\"style\": \"light\"}, \"paper_bgcolor\": \"white\", \"plot_bgcolor\": \"#E5ECF6\", \"polar\": {\"angularaxis\": {\"gridcolor\": \"white\", \"linecolor\": \"white\", \"ticks\": \"\"}, \"bgcolor\": \"#E5ECF6\", \"radialaxis\": {\"gridcolor\": \"white\", \"linecolor\": \"white\", \"ticks\": \"\"}}, \"scene\": {\"xaxis\": {\"backgroundcolor\": \"#E5ECF6\", \"gridcolor\": \"white\", \"gridwidth\": 2, \"linecolor\": \"white\", \"showbackground\": true, \"ticks\": \"\", \"zerolinecolor\": \"white\"}, \"yaxis\": {\"backgroundcolor\": \"#E5ECF6\", \"gridcolor\": \"white\", \"gridwidth\": 2, \"linecolor\": \"white\", \"showbackground\": true, \"ticks\": \"\", \"zerolinecolor\": \"white\"}, \"zaxis\": {\"backgroundcolor\": \"#E5ECF6\", \"gridcolor\": \"white\", \"gridwidth\": 2, \"linecolor\": \"white\", \"showbackground\": true, \"ticks\": \"\", \"zerolinecolor\": \"white\"}}, \"shapedefaults\": {\"line\": {\"color\": \"#2a3f5f\"}}, \"ternary\": {\"aaxis\": {\"gridcolor\": \"white\", \"linecolor\": \"white\", \"ticks\": \"\"}, \"baxis\": {\"gridcolor\": \"white\", \"linecolor\": \"white\", \"ticks\": \"\"}, \"bgcolor\": \"#E5ECF6\", \"caxis\": {\"gridcolor\": \"white\", \"linecolor\": \"white\", \"ticks\": \"\"}}, \"title\": {\"x\": 0.05}, \"xaxis\": {\"automargin\": true, \"gridcolor\": \"white\", \"linecolor\": \"white\", \"ticks\": \"\", \"title\": {\"standoff\": 15}, \"zerolinecolor\": \"white\", \"zerolinewidth\": 2}, \"yaxis\": {\"automargin\": true, \"gridcolor\": \"white\", \"linecolor\": \"white\", \"ticks\": \"\", \"title\": {\"standoff\": 15}, \"zerolinecolor\": \"white\", \"zerolinewidth\": 2}}}, \"width\": 1100, \"xaxis\": {\"anchor\": \"y\", \"domain\": [0.0, 0.45]}, \"xaxis2\": {\"anchor\": \"y2\", \"domain\": [0.55, 1.0]}, \"xaxis3\": {\"anchor\": \"y3\", \"domain\": [0.0, 0.45]}, \"xaxis4\": {\"anchor\": \"y4\", \"domain\": [0.55, 1.0]}, \"xaxis5\": {\"anchor\": \"y5\", \"domain\": [0.0, 0.45]}, \"xaxis6\": {\"anchor\": \"y6\", \"domain\": [0.55, 1.0]}, \"xaxis7\": {\"anchor\": \"y7\", \"domain\": [0.0, 0.45]}, \"xaxis8\": {\"anchor\": \"y8\", \"domain\": [0.55, 1.0]}, \"yaxis\": {\"anchor\": \"x\", \"domain\": [0.84375, 1.0]}, \"yaxis2\": {\"anchor\": \"x2\", \"domain\": [0.84375, 1.0]}, \"yaxis3\": {\"anchor\": \"x3\", \"domain\": [0.5625, 0.71875]}, \"yaxis4\": {\"anchor\": \"x4\", \"domain\": [0.5625, 0.71875]}, \"yaxis5\": {\"anchor\": \"x5\", \"domain\": [0.28125, 0.4375]}, \"yaxis6\": {\"anchor\": \"x6\", \"domain\": [0.28125, 0.4375]}, \"yaxis7\": {\"anchor\": \"x7\", \"domain\": [0.0, 0.15625]}, \"yaxis8\": {\"anchor\": \"x8\", \"domain\": [0.0, 0.15625]}},\n",
              "                        {\"responsive\": true}\n",
              "                    ).then(function(){\n",
              "                            \n",
              "var gd = document.getElementById('0c5a36bd-ca43-44f8-a6d5-7e424a34a1aa');\n",
              "var x = new MutationObserver(function (mutations, observer) {{\n",
              "        var display = window.getComputedStyle(gd).display;\n",
              "        if (!display || display === 'none') {{\n",
              "            console.log([gd, 'removed!']);\n",
              "            Plotly.purge(gd);\n",
              "            observer.disconnect();\n",
              "        }}\n",
              "}});\n",
              "\n",
              "// Listen for the removal of the full notebook cells\n",
              "var notebookContainer = gd.closest('#notebook-container');\n",
              "if (notebookContainer) {{\n",
              "    x.observe(notebookContainer, {childList: true});\n",
              "}}\n",
              "\n",
              "// Listen for the clearing of the current output cell\n",
              "var outputEl = gd.closest('.output');\n",
              "if (outputEl) {{\n",
              "    x.observe(outputEl, {childList: true});\n",
              "}}\n",
              "\n",
              "                        })\n",
              "                };\n",
              "                \n",
              "            </script>\n",
              "        </div>\n",
              "</body>\n",
              "</html>"
            ]
          },
          "metadata": {}
        }
      ]
    }
  ]
}